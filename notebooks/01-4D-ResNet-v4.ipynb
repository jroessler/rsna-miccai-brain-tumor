{
 "cells": [
  {
   "cell_type": "markdown",
   "id": "17c4df0b-8f20-49bc-9e75-fcc5e3985edd",
   "metadata": {},
   "source": [
    "# 4D ResNet\n",
    "\n",
    "In this notebook we'll train a \"4D\" ResNet model (strickly speaking: it's still a 3D ResNet) using \"4D\" images<br>\n",
    "We will use 5-fold CV to make the outcome more reliable.\n",
    "\n",
    "**4D images**\n",
    "* each image has the following shape: Channel x Width x Height x Depth\n",
    "* *channel:* the channel represents a specific MRI type. Further, <u>each</u> image contains all four MRI types (i.e., channel=4) --> That is why we say it is \"4D\"\n",
    "* *depth:* the depth represents the depth or the number of slices. I tried various values >= 30. Caution: If for a given patient id, the number of images <= the number of slices, we will replace the missing depth slices with zero matrices.\n",
    "* added some albumentation such as CLAHE, brightness, and CoarseDropout\n",
    "* removed black pixels (see [Zabir Al Nazi Nabil](https://www.kaggle.com/furcifer/torch-efficientnet3d-for-mri-no-train))\n",
    "\n",
    "**4D ResNet18**\n",
    "* copied and edited from [3D-ResNets-PyTorch](https://github.com/kenshohara/3D-ResNets-PyTorch)\n",
    "\n",
    "**Slicing Strategy**\n",
    "* take each x-th slice from each 3D image, whereby x (e.g., 2,4,6) depends on the maximum number of slices + take SLICING_NUMBER middle slices if SLICING_NUMBER < depth"
   ]
  },
  {
   "cell_type": "markdown",
   "id": "f890c327-af46-4b0a-ae4f-66b0b1eb80e1",
   "metadata": {},
   "source": [
    "#### Imports"
   ]
  },
  {
   "cell_type": "code",
   "execution_count": 1,
   "id": "c7beefc9-1c77-469d-aa86-0852ce4d8528",
   "metadata": {},
   "outputs": [],
   "source": [
    "import os\n",
    "import random\n",
    "import glob\n",
    "import re\n",
    "\n",
    "import pandas as pd\n",
    "\n",
    "import numpy as np\n",
    "\n",
    "from sklearn.metrics import roc_auc_score\n",
    "from sklearn.model_selection import StratifiedKFold\n",
    "\n",
    "import matplotlib.pyplot as plt\n",
    "\n",
    "import torch\n",
    "import torch.nn as nn\n",
    "from torch.utils.data import Dataset, DataLoader\n",
    "import torch.nn.functional as F\n",
    "from torchvision import transforms, utils\n",
    "from torch.optim import lr_scheduler\n",
    "\n",
    "import pydicom\n",
    "from pydicom.pixel_data_handlers.util import apply_voi_lut\n",
    "\n",
    "import cv2\n",
    "\n",
    "import albumentations as A\n",
    "\n",
    "from tqdm import tqdm\n",
    "\n",
    "import wandb\n",
    "\n",
    "import warnings\n",
    "warnings.simplefilter(\"ignore\", UserWarning)\n",
    "warnings.simplefilter(\"ignore\", RuntimeWarning)"
   ]
  },
  {
   "cell_type": "markdown",
   "id": "c69032e1-e9c2-42b2-ad4b-41828b74a756",
   "metadata": {},
   "source": [
    "#### Seed"
   ]
  },
  {
   "cell_type": "code",
   "execution_count": 2,
   "id": "57758aa8-de49-474a-b7b9-23fc743a24c0",
   "metadata": {},
   "outputs": [],
   "source": [
    "def set_seed(seed):\n",
    "    random.seed(seed)\n",
    "    os.environ[\"PYTHONHASHSEED\"] = str(seed)\n",
    "    np.random.seed(seed)\n",
    "    torch.manual_seed(seed)\n",
    "    if torch.cuda.is_available():\n",
    "        torch.cuda.manual_seed_all(seed)\n",
    "        torch.backends.cudnn.deterministic = True\n",
    "\n",
    "\n",
    "set_seed(42)"
   ]
  },
  {
   "cell_type": "markdown",
   "id": "d31b3dce-1207-4fb0-aa13-708bcde01903",
   "metadata": {},
   "source": [
    "#### Settings"
   ]
  },
  {
   "cell_type": "code",
   "execution_count": 3,
   "id": "f34151ea-ca11-4f69-b4aa-469fb2c3e152",
   "metadata": {},
   "outputs": [],
   "source": [
    "PATH = '../input/rsna-miccai-brain-tumor-radiogenomic-classification'"
   ]
  },
  {
   "cell_type": "markdown",
   "id": "3ddc7dbb-4714-42e3-b8d7-ecfcf2ad6a1f",
   "metadata": {},
   "source": [
    "#### Config"
   ]
  },
  {
   "cell_type": "code",
   "execution_count": 4,
   "id": "66eb5c48-d181-4483-b859-551b7d7a6bad",
   "metadata": {},
   "outputs": [],
   "source": [
    "config_dict = dict(\n",
    "    # Pre-processing\n",
    "    SLICE_NUMBER = 32, # >= 30\n",
    "    REMOVE_BLACK_BOUNDARIES = True,\n",
    "    DICOM=False,\n",
    "    \n",
    "    # Albumentation\n",
    "    RRC_SIZE = 256,\n",
    "    RRC_MIN_SCALE = 0.85,\n",
    "    RRC_RATIO = (1., 1.),\n",
    "    CLAHE_CLIP_LIMIT = 2.0,\n",
    "    CLAHE_TILE_GRID_SIZE = (8, 8),\n",
    "    CLAHE_PROB = 0.50,\n",
    "    BRIGHTNESS_LIMIT = (-0.2,0.2),\n",
    "    BRIGHTNESS_PROB = 0.40,\n",
    "    HUE_SHIFT = (-15, 15),\n",
    "    SAT_SHIFT = (-15, 15),\n",
    "    VAL_SHIFT = (-15, 15),\n",
    "    HUE_PROB = 0.64,\n",
    "    COARSE_MAX_HOLES = 16,\n",
    "    COARSE_PROB = 0.7,\n",
    "    \n",
    "    # K-Fold\n",
    "    N_SPLITS = 5,\n",
    "    \n",
    "    # Training\n",
    "    N_EPOCHS = 10,\n",
    "    BATCH_SIZE = 32,\n",
    "    LEARNING_RATE = 0.01,\n",
    "    WEIGHT_DECAY = 0.02,\n",
    "    OPTIMIZER = \"SGD\",\n",
    "    MOMENTUM = 0.9,\n",
    "    SCHEDULER = \"ReduceLROnPlateau\",\n",
    "    \n",
    "    # Logging\n",
    "    VERBOSE = False,\n",
    "    MODELNAME = \"01-4D-ResNet-v4\"\n",
    ")\n",
    "\n",
    "device = torch.device('cuda' if torch.cuda.is_available() else 'cpu')"
   ]
  },
  {
   "cell_type": "markdown",
   "id": "2ee6ace1-a624-45dd-a40a-18dcd36d340b",
   "metadata": {},
   "source": [
    "#### wandb"
   ]
  },
  {
   "cell_type": "code",
   "execution_count": 5,
   "id": "716a67c0-30f1-4072-88e8-d89c4f346ae6",
   "metadata": {},
   "outputs": [
    {
     "name": "stderr",
     "output_type": "stream",
     "text": [
      "Failed to detect the name of this notebook, you can set it manually with the WANDB_NOTEBOOK_NAME environment variable to enable code saving.\n",
      "\u001b[34m\u001b[1mwandb\u001b[0m: Currently logged in as: \u001b[33mgusto\u001b[0m (use `wandb login --relogin` to force relogin)\n",
      "\u001b[34m\u001b[1mwandb\u001b[0m: wandb version 0.12.0 is available!  To upgrade, please run:\n",
      "\u001b[34m\u001b[1mwandb\u001b[0m:  $ pip install wandb --upgrade\n"
     ]
    },
    {
     "data": {
      "text/html": [
       "\n",
       "                Tracking run with wandb version 0.11.1<br/>\n",
       "                Syncing run <strong style=\"color:#cdcd00\">snowy-sound-31</strong> to <a href=\"https://wandb.ai\" target=\"_blank\">Weights & Biases</a> <a href=\"https://docs.wandb.com/integrations/jupyter.html\" target=\"_blank\">(Documentation)</a>.<br/>\n",
       "                Project page: <a href=\"https://wandb.ai/uzk-wim/rsna-miccai-k-fold\" target=\"_blank\">https://wandb.ai/uzk-wim/rsna-miccai-k-fold</a><br/>\n",
       "                Run page: <a href=\"https://wandb.ai/uzk-wim/rsna-miccai-k-fold/runs/3d9ebcpb\" target=\"_blank\">https://wandb.ai/uzk-wim/rsna-miccai-k-fold/runs/3d9ebcpb</a><br/>\n",
       "                Run data is saved locally in <code>/home/jroessler/jupyterhub/rsna/notebooks/wandb/run-20210824_123557-3d9ebcpb</code><br/><br/>\n",
       "            "
      ],
      "text/plain": [
       "<IPython.core.display.HTML object>"
      ]
     },
     "metadata": {},
     "output_type": "display_data"
    }
   ],
   "source": [
    "wandb.login()\n",
    "run_name = f'{config_dict[\"MODELNAME\"]}-{str(config_dict[\"SLICE_NUMBER\"])}-{str(config_dict[\"RRC_SIZE\"])}'\n",
    "run = wandb.init(entity=\"uzk-wim\", project='rsna-miccai-k-fold', config=config_dict, mode=\"online\", group=run_name)\n",
    "config = wandb.config"
   ]
  },
  {
   "cell_type": "markdown",
   "id": "fe263350-abc7-47d3-a470-a57a7060b7e1",
   "metadata": {},
   "source": [
    "### 1. Load Data\n",
    "\n",
    "For each person, we were given *four* different MRI types: \n",
    "* FLAIR\n",
    "* T1w\n",
    "* T1wCE, and \n",
    "* T2w. \n",
    "\n",
    "We will create 4D images which are composed of each MRI type 3D image (4 sequences) where each sequence is composed of *config.SLICE_NUMBER* (e.g. 50) slices (i.e., depth).<br>\n",
    "Shape:  *Channel x Width x Height x Depth*\n"
   ]
  },
  {
   "cell_type": "markdown",
   "id": "96eb4664-2143-4c1b-9f81-7a58d16edd73",
   "metadata": {},
   "source": [
    "### 1.1 Utilities"
   ]
  },
  {
   "cell_type": "markdown",
   "id": "8eb2fba5-e062-4ab1-8b9e-ca72e9b36732",
   "metadata": {},
   "source": [
    "#### 1.1.1 Augmentation"
   ]
  },
  {
   "cell_type": "code",
   "execution_count": 6,
   "id": "bd9c02d3-d25b-4c3f-95e5-545894a0a460",
   "metadata": {},
   "outputs": [],
   "source": [
    "train_transform = A.Compose([\n",
    "    A.RandomResizedCrop(\n",
    "        config.RRC_SIZE, config.RRC_SIZE,            \n",
    "        scale=(config.RRC_MIN_SCALE, 1.0),\n",
    "        ratio=config.RRC_RATIO,\n",
    "        p=1.0\n",
    "    ),\n",
    "    A.CLAHE(\n",
    "        clip_limit=config.CLAHE_CLIP_LIMIT,\n",
    "        tile_grid_size=config.CLAHE_TILE_GRID_SIZE,\n",
    "        p=config.CLAHE_PROB\n",
    "    ),\n",
    "    A.RandomBrightnessContrast(\n",
    "        brightness_limit=config.BRIGHTNESS_LIMIT,\n",
    "        p=config.BRIGHTNESS_PROB\n",
    "    ),\n",
    "    A.HueSaturationValue(\n",
    "        hue_shift_limit=config.HUE_SHIFT, \n",
    "        sat_shift_limit=config.SAT_SHIFT, \n",
    "        val_shift_limit=config.VAL_SHIFT, \n",
    "        p=config.HUE_PROB\n",
    "    ),\n",
    "    A.CoarseDropout(\n",
    "        max_holes=config.COARSE_MAX_HOLES,\n",
    "        p=config.COARSE_PROB),\n",
    "])\n",
    "\n",
    "valid_transform = A.Compose([\n",
    "    A.RandomResizedCrop( \n",
    "        config.RRC_SIZE, config.RRC_SIZE,            \n",
    "        scale=(config.RRC_MIN_SCALE, 1.0),\n",
    "        ratio=config.RRC_RATIO,\n",
    "        p=1.0\n",
    "    )\n",
    "])"
   ]
  },
  {
   "cell_type": "markdown",
   "id": "2e7aedeb-df7f-45a4-9646-97bde2c10c19",
   "metadata": {},
   "source": [
    "#### 1.1.2 Loading Images"
   ]
  },
  {
   "cell_type": "code",
   "execution_count": 7,
   "id": "2cec6f51-ff10-46d5-a325-e90acd1e00c0",
   "metadata": {},
   "outputs": [],
   "source": [
    "def dicom_2_image(file, voi_lut=True, fix_monochrome=True):\n",
    "    dicom = pydicom.read_file(file)\n",
    "    # VOI LUT (if available by DICOM device) is used to\n",
    "    # transform raw DICOM data to \"human-friendly\" view\n",
    "    if voi_lut:\n",
    "        img = apply_voi_lut(dicom.pixel_array, dicom)\n",
    "    else:\n",
    "        img = dicom.pixel_array\n",
    "    if fix_monochrome and dicom.PhotometricInterpretation == \"MONOCHROME1\":\n",
    "        img = np.amax(img) - img\n",
    "    \n",
    "    img = img - np.min(img)\n",
    "    img = img / np.max(img)\n",
    "    img = (img * 255).astype(np.uint8)\n",
    "    return img\n",
    "\n",
    "def remove_black_boundaries(img):\n",
    "    (x, y) = np.where(img > 0)\n",
    "    if len(x) > 0 and len(y) > 0:\n",
    "        x_mn = np.min(x)\n",
    "        x_mx = np.max(x)\n",
    "        y_mn = np.min(y)\n",
    "        y_mx = np.max(y)\n",
    "        if (x_mx - x_mn) > 10 and (y_mx - y_mn) > 10:\n",
    "            img = img[:,np.min(y):np.max(y)]\n",
    "    return img\n",
    "\n",
    "def get_middle_idxs(mri_type):\n",
    "    # Take SLICE_NUMBER slices from the middle\n",
    "    threshold = config.SLICE_NUMBER // 2\n",
    "    minimum_idx = len(mri_type)//2 - threshold if (len(mri_type)//2 - threshold) > 0 else 0\n",
    "    maximum_idx = len(mri_type)//2 + threshold  # maximum can exceed the index\n",
    "    step = 1\n",
    "    if config.VERBOSE:\n",
    "        print(f\"Minimum {minimum_idx}\")\n",
    "        print(f\"Maximum {maximum_idx}\")\n",
    "    return minimum_idx, maximum_idx, step\n",
    "\n",
    "def get_xth_idxs(img_depth):\n",
    "    minimum_idx = 0\n",
    "    maximum_idx = img_depth\n",
    "    step = 1\n",
    "    if config.SLICE_NUMBER < img_depth:\n",
    "        mod = img_depth % config.SLICE_NUMBER\n",
    "        threshold = int(mod // 2)\n",
    "        minimum_idx = threshold\n",
    "        maximum_idx = img_depth - threshold\n",
    "        step = img_depth // config.SLICE_NUMBER\n",
    "    if config.VERBOSE:\n",
    "        print(f\"Minimum {minimum_idx}\")\n",
    "        print(f\"Maximum {maximum_idx}\")\n",
    "        print(f\"Step size: {step}\")\n",
    "    return minimum_idx, maximum_idx, step\n",
    "\n",
    "def get_3d_image(mri_type, aug, dicom):\n",
    "    # Calculate the indices of the 2D images which should be considered for the 3D image\n",
    "    img_depth = len(mri_type)\n",
    "    if img_depth <= config.SLICE_NUMBER:\n",
    "        minimum_idx, maximum_idx, step = get_middle_idxs(mri_type)\n",
    "    elif img_depth <= config.SLICE_NUMBER*2:\n",
    "        minimum_idx, maximum_idx, step = get_middle_idxs(mri_type)\n",
    "    else:\n",
    "        minimum_idx, maximum_idx, step = get_xth_idxs(img_depth)\n",
    "    \n",
    "    # Create list which contains all the 2D images which form the 3D image\n",
    "    mri_img = []\n",
    "    counter = 0\n",
    "    for i in range(minimum_idx, maximum_idx, step):\n",
    "        if i >= len(mri_type):\n",
    "            break\n",
    "        file = mri_type[i]\n",
    "        \n",
    "        # Load 2D image\n",
    "        if dicom:\n",
    "            img = dicom_2_image(file)\n",
    "        else:\n",
    "            img = cv2.imread(file, cv2.IMREAD_GRAYSCALE)\n",
    "            \n",
    "        # Remove black boundaries\n",
    "        if config.REMOVE_BLACK_BOUNDARIES:\n",
    "            img = remove_black_boundaries(img)\n",
    "            \n",
    "        # Augmentation\n",
    "        if aug:\n",
    "            transformed = train_transform(image=img)\n",
    "            img = transformed[\"image\"]\n",
    "        else:\n",
    "            transformed = valid_transform(image=img)\n",
    "            img = transformed[\"image\"]\n",
    "            \n",
    "        counter += 1\n",
    "        if counter == config.SLICE_NUMBER:\n",
    "            break\n",
    "            \n",
    "        mri_img.append(np.array(img))\n",
    "    mri_img = np.array(mri_img).T\n",
    "    \n",
    "    # If less than SLICE_NUMBER slices, add SLICE_NUMBER - mri_img.shape[-1] images with only zero values\n",
    "    if mri_img.shape[-1] < config.SLICE_NUMBER:\n",
    "        if config.VERBOSE:\n",
    "            print(f\"Current slices: {mri_img.shape[-1]}\")\n",
    "        n_zero = config.SLICE_NUMBER - mri_img.shape[-1]\n",
    "        mri_img = np.concatenate((mri_img, np.zeros((config.RRC_SIZE, config.RRC_SIZE, n_zero))), axis = -1)\n",
    "    if config.VERBOSE:\n",
    "        print(f\"Shape of mri_img: {mri_img.shape}\")\n",
    "    return mri_img\n",
    "    \n",
    "\n",
    "def load_images(scan_id, aug=True, split=\"train\", dicom=False):\n",
    "    # Ascending sort\n",
    "    file_ext = \"png\"\n",
    "    if dicom:\n",
    "        file_ext = \"dcm\"\n",
    "    flair = sorted(glob.glob(f\"{PATH}/{split}/{scan_id}/FLAIR/*.{file_ext}\"), key=lambda f: int(re.sub('\\D', '', f)))\n",
    "    t1w = sorted(glob.glob(f\"{PATH}/{split}/{scan_id}/T1w/*.{file_ext}\"), key=lambda f: int(re.sub('\\D', '', f)))\n",
    "    t1wce = sorted(glob.glob(f\"{PATH}/{split}/{scan_id}/T1wCE/*.{file_ext}\"), key=lambda f: int(re.sub('\\D', '', f)))\n",
    "    t2w = sorted(glob.glob(f\"{PATH}/{split}/{scan_id}/T2w/*.{file_ext}\"), key=lambda f: int(re.sub('\\D', '', f)))\n",
    "    \n",
    "    if config.VERBOSE:\n",
    "        print(f\"Scan id {scan_id}\")\n",
    "    flair_img = get_3d_image(flair, aug, dicom)\n",
    "    t1w_img = get_3d_image(t1w, aug, dicom)\n",
    "    t1wce_img = get_3d_image(t1wce, aug, dicom)\n",
    "    t2w_img = get_3d_image(t2w, aug, dicom)\n",
    "    \n",
    "    # Return 4D image: ChannelsxWidthxHeightxDepth\n",
    "    # mri_img = (mri_img - np.mean(mri_img, axis=(0,1)))/np.std(mri_img, axis=(0,1))\n",
    "    return np.moveaxis(np.array((flair_img, t1w_img, t1wce_img, t2w_img)), 0, 0)"
   ]
  },
  {
   "cell_type": "markdown",
   "id": "7a2a29f7-6588-4f19-8bef-f246a3dace77",
   "metadata": {},
   "source": [
    "#### 1.1.3 Example"
   ]
  },
  {
   "cell_type": "code",
   "execution_count": 8,
   "id": "ac668a6d-0146-4cc9-a7be-3f865e92f797",
   "metadata": {},
   "outputs": [
    {
     "data": {
      "image/png": "[encoded data removed]",
      "text/plain": [
       "<Figure size 1080x1080 with 8 Axes>"
      ]
     },
     "metadata": {},
     "output_type": "display_data"
    }
   ],
   "source": [
    "figure, axes = plt.subplots(2,4, figsize=(15,15))\n",
    "\n",
    "slices_aug_1 = load_images(\"00002\", aug=True)[0,:,:,0]\n",
    "slices_no_aug_1 = load_images(\"00002\", aug=False)[0,:,:,0]\n",
    "\n",
    "slices_aug_2 = load_images(\"00011\", aug=True)[0,:,:,0]\n",
    "slices_no_aug_2 = load_images(\"00011\", aug=False)[0,:,:,0]\n",
    "\n",
    "slices_aug_3 = load_images(\"00028\", aug=True)[0,:,:,0]\n",
    "slices_no_aug_3 = load_images(\"00028\", aug=False)[0,:,:,0]\n",
    "\n",
    "slices_aug_4 = load_images(\"00054\", aug=True)[0,:,:,0]\n",
    "slices_no_aug_4 = load_images(\"00054\", aug=False)[0,:,:,0]\n",
    "\n",
    "im = axes[0,0].imshow(slices_aug_1, cmap=\"gray\")\n",
    "im = axes[0,1].imshow(slices_aug_2, cmap=\"gray\")\n",
    "im = axes[0,2].imshow(slices_aug_3, cmap=\"gray\")\n",
    "im = axes[0,3].imshow(slices_aug_4, cmap=\"gray\")\n",
    "\n",
    "for ax in axes[0]:\n",
    "    ax.set_xticks([])\n",
    "    ax.set_yticks([])\n",
    "    \n",
    "im = axes[1,0].imshow(slices_no_aug_1, cmap=\"gray\")\n",
    "im = axes[1,1].imshow(slices_no_aug_2, cmap=\"gray\")\n",
    "im = axes[1,2].imshow(slices_no_aug_3, cmap=\"gray\")\n",
    "im = axes[1,3].imshow(slices_no_aug_4, cmap=\"gray\")\n",
    "\n",
    "for ax in axes[1]:\n",
    "    ax.set_xticks([])\n",
    "    ax.set_yticks([])\n",
    "\n",
    "figure.tight_layout()\n",
    "plt.show()"
   ]
  },
  {
   "cell_type": "markdown",
   "id": "e375fe33-206e-47fa-87ee-39e5c68ac346",
   "metadata": {},
   "source": [
    "### 1.2 Dataset and Dataloader"
   ]
  },
  {
   "cell_type": "code",
   "execution_count": 9,
   "id": "3cbb7ff2-5003-494b-8351-a3a4ba179ae6",
   "metadata": {},
   "outputs": [],
   "source": [
    "# Load ids and labels and make a stratified 80:20 split\n",
    "df = pd.read_csv(\"../train_labels.csv\")"
   ]
  },
  {
   "cell_type": "code",
   "execution_count": 10,
   "id": "8bcc75ba-1439-434e-b620-f6f8b4ca3cb2",
   "metadata": {},
   "outputs": [],
   "source": [
    "class RSNADataset(Dataset):\n",
    "    def __init__(self, ids, labels, split=\"train\", dicom=False):\n",
    "        self.ids = ids\n",
    "        self.labels = labels\n",
    "        self.split = split\n",
    "        self.dicom = dicom\n",
    "        \n",
    "        remove_ids = [709, 109, 123]\n",
    "        self.ids = [id_ for id_ in self.ids if id_ not in remove_ids]  \n",
    "    \n",
    "    def __len__(self):\n",
    "        return len(self.ids)\n",
    "    \n",
    "    def __getitem__(self, idx):\n",
    "        patient_id = self.ids[idx]\n",
    "        patient_id = str(patient_id).zfill(5)\n",
    "        if self.split == \"train\":\n",
    "            imgs = load_images(patient_id, aug=True, dicom=self.dicom)\n",
    "        elif self.split == \"valid\":\n",
    "            imgs = load_images(patient_id, aug=False, dicom=self.dicom)\n",
    "        else:\n",
    "            imgs = load_images(patient_id, aug=False, split=self.split, dicom=self.dicom)\n",
    "        # Normalize\n",
    "        imgs = imgs - imgs.min()\n",
    "        imgs = (imgs + 1e-5) / (imgs.max() - imgs.min() + 1e-5)\n",
    "\n",
    "        if self.split != \"test\":\n",
    "            return torch.tensor(imgs, dtype = torch.float32), torch.tensor(self.labels[idx], dtype = torch.long)\n",
    "        else:\n",
    "            return torch.tensor(imgs, dtype = torch.float32), torch.tensor(self.ids[idx], dtype = torch.float32)"
   ]
  },
  {
   "cell_type": "markdown",
   "id": "49cd7879-f56f-4241-b841-9ee3e85d46c2",
   "metadata": {},
   "source": [
    "### 1.3 Model"
   ]
  },
  {
   "cell_type": "code",
   "execution_count": 11,
   "id": "6dce196b-67eb-401d-a415-f8a56eb0f42e",
   "metadata": {},
   "outputs": [],
   "source": [
    "def conv3x3x3(in_planes, out_planes, stride=1):\n",
    "    return nn.Conv3d(in_planes, out_planes, kernel_size=3, stride=stride, padding=1, bias=False)\n",
    "\n",
    "\n",
    "def conv1x1x1(in_planes, out_planes, stride=1):\n",
    "    return nn.Conv3d(in_planes, out_planes, kernel_size=1, stride=stride, bias=False)\n",
    "\n",
    "\n",
    "class BasicBlock(nn.Module):\n",
    "    expansion = 1\n",
    "\n",
    "    def __init__(self, in_planes, planes, stride=1, downsample=None):\n",
    "        super().__init__()\n",
    "\n",
    "        self.conv1 = conv3x3x3(in_planes, planes, stride)\n",
    "        self.bn1 = nn.BatchNorm3d(planes)\n",
    "        self.relu = nn.ReLU(inplace=True)\n",
    "        self.conv2 = conv3x3x3(planes, planes)\n",
    "        self.bn2 = nn.BatchNorm3d(planes)\n",
    "        self.downsample = downsample\n",
    "        self.stride = stride\n",
    "\n",
    "    def forward(self, x):\n",
    "        residual = x\n",
    "\n",
    "        out = self.conv1(x)\n",
    "        out = self.bn1(out)\n",
    "        out = self.relu(out)\n",
    "\n",
    "        out = self.conv2(out)\n",
    "        out = self.bn2(out)\n",
    "\n",
    "        if self.downsample is not None:\n",
    "            residual = self.downsample(x)\n",
    "\n",
    "        out += residual\n",
    "        out = self.relu(out)\n",
    "\n",
    "        return out\n",
    "    \n",
    "class Bottleneck(nn.Module):\n",
    "    expansion = 4\n",
    "\n",
    "    def __init__(self, in_planes, planes, stride=1, downsample=None):\n",
    "        super().__init__()\n",
    "\n",
    "        self.conv1 = conv1x1x1(in_planes, planes)\n",
    "        self.bn1 = nn.BatchNorm3d(planes)\n",
    "        self.conv2 = conv3x3x3(planes, planes, stride)\n",
    "        self.bn2 = nn.BatchNorm3d(planes)\n",
    "        self.conv3 = conv1x1x1(planes, planes * self.expansion)\n",
    "        self.bn3 = nn.BatchNorm3d(planes * self.expansion)\n",
    "        self.relu = nn.ReLU(inplace=True)\n",
    "        self.downsample = downsample\n",
    "        self.stride = stride\n",
    "\n",
    "    def forward(self, x):\n",
    "        residual = x\n",
    "\n",
    "        out = self.conv1(x)\n",
    "        out = self.bn1(out)\n",
    "        out = self.relu(out)\n",
    "\n",
    "        out = self.conv2(out)\n",
    "        out = self.bn2(out)\n",
    "        out = self.relu(out)\n",
    "\n",
    "        out = self.conv3(out)\n",
    "        out = self.bn3(out)\n",
    "\n",
    "        if self.downsample is not None:\n",
    "            residual = self.downsample(x)\n",
    "\n",
    "        out += residual\n",
    "        out = self.relu(out)\n",
    "\n",
    "        return out\n",
    "\n",
    "\n",
    "class ResNet(nn.Module):\n",
    "\n",
    "    def __init__(self, block, layers, block_inplanes, n_input_channels=4, conv1_t_size=7, conv1_t_stride=1, no_max_pool=False,\n",
    "                 shortcut_type='B', widen_factor=1.0, n_classes=2):\n",
    "        super().__init__()\n",
    "        \n",
    "        # For wider ResNets only\n",
    "        block_inplanes = [int(x * widen_factor) for x in block_inplanes]\n",
    "\n",
    "        self.in_planes = block_inplanes[0]  # 64\n",
    "        self.no_max_pool = no_max_pool\n",
    "\n",
    "        # First Block: Convolutional Layer + Batch Normalization + ReLu + Max Pooling\n",
    "        self.conv1 = nn.Conv3d(n_input_channels, self.in_planes, kernel_size=(conv1_t_size, 7, 7), stride=(conv1_t_stride, 2, 2),\n",
    "                               padding=(conv1_t_size // 2, 3, 3), bias=False)\n",
    "        self.bn1 = nn.BatchNorm3d(self.in_planes)\n",
    "        self.relu = nn.ReLU(inplace=True)\n",
    "        self.maxpool = nn.MaxPool3d(kernel_size=3, stride=2, padding=1)\n",
    "        # Example ResNet18: Each layer consists of two residual blocks and two residual connections\n",
    "        self.layer1 = self._make_layer(block, block_inplanes[0], layers[0], shortcut_type)\n",
    "        self.layer2 = self._make_layer(block, block_inplanes[1], layers[1], shortcut_type, stride=2)\n",
    "        self.layer3 = self._make_layer(block, block_inplanes[2], layers[2], shortcut_type, stride=2)\n",
    "        self.layer4 = self._make_layer(block, block_inplanes[3], layers[3], shortcut_type, stride=2)\n",
    "\n",
    "        self.avgpool = nn.AdaptiveAvgPool3d((1, 1, 1))\n",
    "        self.fc = nn.Linear(block_inplanes[3] * block.expansion, n_classes)\n",
    "\n",
    "        # Initialization\n",
    "        for m in self.modules():\n",
    "            # He initialization\n",
    "            if isinstance(m, nn.Conv3d):\n",
    "                nn.init.kaiming_normal_(m.weight, mode='fan_out', nonlinearity='relu')\n",
    "            elif isinstance(m, nn.BatchNorm3d):\n",
    "                nn.init.constant_(m.weight, 1)\n",
    "                nn.init.constant_(m.bias, 0)\n",
    "\n",
    "    def _downsample_basic_block(self, x, planes, stride):\n",
    "        out = F.avg_pool3d(x, kernel_size=1, stride=stride)\n",
    "        zero_pads = torch.zeros(out.size(0), planes - out.size(1), out.size(2), out.size(3), out.size(4))\n",
    "        if isinstance(out.data, torch.cuda.FloatTensor):\n",
    "            zero_pads = zero_pads.cuda()\n",
    "\n",
    "        out = torch.cat([out.data, zero_pads], dim=1)\n",
    "\n",
    "        return out\n",
    "\n",
    "    def _make_layer(self, block, planes, blocks, shortcut_type, stride=1):\n",
    "        downsample = None\n",
    "        if stride != 1 or self.in_planes != planes * block.expansion:\n",
    "            if shortcut_type == 'A':\n",
    "                downsample = partial(self._downsample_basic_block, planes=planes * block.expansion, stride=stride)\n",
    "            else:\n",
    "                downsample = nn.Sequential(conv1x1x1(self.in_planes, planes * block.expansion, stride), \n",
    "                                           nn.BatchNorm3d(planes * block.expansion))\n",
    "\n",
    "        layers = []\n",
    "        layers.append(block(in_planes=self.in_planes, planes=planes, stride=stride, downsample=downsample))\n",
    "        self.in_planes = planes * block.expansion\n",
    "        for i in range(1, blocks):\n",
    "            layers.append(block(self.in_planes, planes))\n",
    "\n",
    "        return nn.Sequential(*layers)\n",
    "\n",
    "    def forward(self, x):\n",
    "        x = self.conv1(x)\n",
    "        x = self.bn1(x)\n",
    "        x = self.relu(x)\n",
    "        if not self.no_max_pool:\n",
    "            x = self.maxpool(x)\n",
    "\n",
    "        x = self.layer1(x)\n",
    "        x = self.layer2(x)\n",
    "        x = self.layer3(x)\n",
    "        x = self.layer4(x)\n",
    "\n",
    "        x = self.avgpool(x)\n",
    "\n",
    "        x = x.view(x.size(0), -1)\n",
    "        x = self.fc(x)\n",
    "\n",
    "        return x"
   ]
  },
  {
   "cell_type": "code",
   "execution_count": 12,
   "id": "62aff47e-0fc7-460a-bedc-29f72966b355",
   "metadata": {},
   "outputs": [],
   "source": [
    "# ResNet18\n",
    "model = ResNet(BasicBlock, [2, 2, 2, 2], [64, 128, 256, 512])\n",
    "# ResNet34\n",
    "#model = ResNet(BasicBlock, [3, 4, 6, 3], [64, 128, 256, 512])\n",
    "# ResNet50\n",
    "#model = ResNet(Bottleneck, [3, 4, 6, 3], [64, 128, 256, 512])\n",
    "# ResNet101\n",
    "#model = ResNet(Bottleneck, [3, 4, 23, 3], [64, 128, 256, 512])"
   ]
  },
  {
   "cell_type": "markdown",
   "id": "27df09a3-54f9-4f8b-a083-122a50d8f565",
   "metadata": {},
   "source": [
    "### 1.4 Training"
   ]
  },
  {
   "cell_type": "code",
   "execution_count": 13,
   "id": "7baecc1e-f75a-45f8-99a8-2541fe728813",
   "metadata": {},
   "outputs": [],
   "source": [
    "def training(net, n_epochs, optimizer, loss_function, scheduler, train_dl, valid_dl, current_fold):\n",
    "    wandb.watch(net, loss_function, log='gradients', log_freq=10)\n",
    "    \n",
    "    best_loss = np.inf\n",
    "    best_roc = 0\n",
    "\n",
    "    # Iterate over the dataset n_epochs times\n",
    "    for epoch in range(n_epochs):\n",
    "        net.train()  # net.train() will notify all your layers that you are in training mode\n",
    "\n",
    "        train_loss = 0  # Training loss in epoch\n",
    "        y_train_list = []\n",
    "        y_hat_train_list = []\n",
    "        roc_train = 0.0\n",
    "\n",
    "        # For each batch, pass the training examples, calculate loss and gradients and optimize the parameters\n",
    "        for xb, yb in tqdm(train_dl, desc=\"Training\"):\n",
    "            optimizer.zero_grad()  # zero_grad clears old gradients from the last step\n",
    "\n",
    "            xb = xb.to(device)\n",
    "            yb = yb.to(device)\n",
    "\n",
    "            y_hat = net(xb)  # Forward pass\n",
    "            loss = loss_function(y_hat, yb)  # Calculate Loss\n",
    "\n",
    "            loss.backward()  # Calculate the gradients (using backpropagation)\n",
    "            optimizer.step()  # # Optimize the parameters: opt.step() causes the optimizer to take a step based on the gradients of the parameters.\n",
    "\n",
    "            train_loss += loss.item()\n",
    "            y_train_list.extend(yb.tolist())\n",
    "            y_hat = F.softmax(y_hat)\n",
    "            y_hat_train_list.extend(y_hat[:,1].tolist())\n",
    "            \n",
    "            if config.SCHEDULER == \"OneCycleLR\":\n",
    "                scheduler.step()\n",
    "                \n",
    "        y_hat_train_list = [1 if x > 0.5 else 0 for x in y_hat_train_list]\n",
    "        roc_train = roc_auc_score(y_train_list, y_hat_train_list)\n",
    "        \n",
    "        train_loss = train_loss/len(train_dl)\n",
    "                \n",
    "        wandb.log({\"epoch\": epoch, \"train_loss\": train_loss, \"train_roc\": roc_train})\n",
    "\n",
    "        valid_loss = 0  # Validation loss in epoch\n",
    "        y_valid_list = []\n",
    "        y_hat_valid_list = []\n",
    "        roc_valid = 0.0\n",
    "\n",
    "        net.eval()  # net.eval() will notify all your layers that you are in evaluation mode\n",
    "        with torch.no_grad():\n",
    "            # Perform a prediction on the validation set  \n",
    "            for xb_valid, yb_valid in tqdm(valid_dl, desc=\"Validation\"):\n",
    "                xb_valid = xb_valid.to(device)\n",
    "                yb_valid = yb_valid.to(device)\n",
    "\n",
    "                y_hat = net(xb_valid)  # Forward pass\n",
    "                loss = loss_function(y_hat, yb_valid)  # Calculate Loss\n",
    "\n",
    "                valid_loss += loss.item()\n",
    "                y_valid_list.extend(yb_valid.tolist())\n",
    "                y_hat = F.softmax(y_hat)\n",
    "                y_hat_valid_list.extend(y_hat[:,1].tolist())\n",
    "\n",
    "        y_hat_valid_list = [1 if x > 0.5 else 0 for x in y_hat_valid_list]\n",
    "        roc_valid = roc_auc_score(y_valid_list, y_hat_valid_list)\n",
    "        \n",
    "        valid_loss = valid_loss/len(valid_dl)\n",
    "        \n",
    "        if config.SCHEDULER == \"ReduceLROnPlateau\":\n",
    "            scheduler.step(valid_loss)\n",
    "\n",
    "        wandb.log({\"epoch\": epoch, \"valid_loss\": valid_loss, \"valid_roc\": roc_valid})\n",
    "        \n",
    "        if best_loss > valid_loss:\n",
    "            best_loss = valid_loss\n",
    "            best_roc = roc_valid\n",
    "            wandb.run.summary[\"best_loss\"] = best_loss\n",
    "            wandb.run.summary[\"best_roc\"] = roc_valid\n",
    "            torch.save(net.state_dict(), f'../models/{config.MODELNAME}-fold-{current_fold}-loss-{round(valid_loss, 3)}.pt')\n",
    "            \n",
    "    return best_loss, best_roc"
   ]
  },
  {
   "cell_type": "code",
   "execution_count": 14,
   "id": "749e8f68-d129-4924-a6a1-141bf929a5a7",
   "metadata": {},
   "outputs": [],
   "source": [
    "# Create Loss Function\n",
    "loss_function = nn.CrossEntropyLoss()\n",
    "\n",
    "# Create optimizer\n",
    "if config.OPTIMIZER == \"SGD\":\n",
    "    optimizer = torch.optim.SGD(model.parameters(), lr=config.LEARNING_RATE, momentum=config.MOMENTUM)\n",
    "elif config.OPTIMIZER == \"Adam\":\n",
    "    optimizer = torch.optim.Adam(model.parameters(),lr = config.LEARNING_RATE, weight_decay=config.WEIGHT_DECAY)\n",
    "else:\n",
    "    optimizer = torch.optim.AdamW(model.parameters(),lr = config.LEARNING_RATE, weight_decay=config.WEIGHT_DECAY)\n",
    "    \n",
    "model.to(device)\n",
    "\n",
    "# Scheduler\n",
    "#  The 1cycle policy by fasti: https://sgugger.github.io/the-1cycle-policy.html\n",
    "if config.SCHEDULER == \"OneCycleLR\":\n",
    "    scheduler = lr_scheduler.OneCycleLR(optimizer, max_lr=0.03, steps_per_epoch=steps_per_epoch, epochs=config.N_EPOCHS)\n",
    "else:\n",
    "    scheduler = lr_scheduler.ReduceLROnPlateau(optimizer, 'min', patience=3, factor=0.25)"
   ]
  },
  {
   "cell_type": "code",
   "execution_count": 15,
   "id": "3e9686b9-0176-421b-bb39-a54aca94e2e3",
   "metadata": {},
   "outputs": [
    {
     "name": "stderr",
     "output_type": "stream",
     "text": [
      "Training: 100%|██████████| 15/15 [06:43<00:00, 26.87s/it]\n",
      "Validation: 100%|██████████| 4/4 [01:20<00:00, 20.15s/it]\n",
      "Training: 100%|██████████| 15/15 [06:46<00:00, 27.13s/it]\n",
      "Validation: 100%|██████████| 4/4 [01:22<00:00, 20.67s/it]\n",
      "Training: 100%|██████████| 15/15 [06:47<00:00, 27.14s/it]\n",
      "Validation: 100%|██████████| 4/4 [01:22<00:00, 20.53s/it]\n",
      "Training: 100%|██████████| 15/15 [06:36<00:00, 26.45s/it]\n",
      "Validation: 100%|██████████| 4/4 [01:23<00:00, 20.77s/it]\n",
      "Training: 100%|██████████| 15/15 [06:56<00:00, 27.76s/it]\n",
      "Validation: 100%|██████████| 4/4 [01:24<00:00, 21.17s/it]\n",
      "Training: 100%|██████████| 15/15 [06:36<00:00, 26.43s/it]\n",
      "Validation: 100%|██████████| 4/4 [01:24<00:00, 21.04s/it]\n",
      "Training: 100%|██████████| 15/15 [06:46<00:00, 27.07s/it]\n",
      "Validation: 100%|██████████| 4/4 [01:23<00:00, 20.95s/it]\n",
      "Training: 100%|██████████| 15/15 [06:44<00:00, 26.95s/it]\n",
      "Validation: 100%|██████████| 4/4 [01:20<00:00, 20.22s/it]\n",
      "Training: 100%|██████████| 15/15 [06:40<00:00, 26.73s/it]\n",
      "Validation: 100%|██████████| 4/4 [01:20<00:00, 20.23s/it]\n",
      "Training: 100%|██████████| 15/15 [06:41<00:00, 26.80s/it]\n",
      "Validation: 100%|██████████| 4/4 [01:21<00:00, 20.43s/it]\n"
     ]
    },
    {
     "data": {
      "text/html": [
       "<br/>Waiting for W&B process to finish, PID 51714<br/>Program ended successfully."
      ],
      "text/plain": [
       "<IPython.core.display.HTML object>"
      ]
     },
     "metadata": {},
     "output_type": "display_data"
    },
    {
     "data": {
      "application/vnd.jupyter.widget-view+json": {
       "model_id": "1f3c2fcfd1b84016a46d33a88ee354c0",
       "version_major": 2,
       "version_minor": 0
      },
      "text/plain": [
       "VBox(children=(Label(value=' 0.00MB of 0.00MB uploaded (0.00MB deduped)\\r'), FloatProgress(value=1.0, max=1.0)…"
      ]
     },
     "metadata": {},
     "output_type": "display_data"
    },
    {
     "data": {
      "text/html": [
       "Find user logs for this run at: <code>/home/jroessler/jupyterhub/rsna/notebooks/wandb/run-20210824_123557-3d9ebcpb/logs/debug.log</code>"
      ],
      "text/plain": [
       "<IPython.core.display.HTML object>"
      ]
     },
     "metadata": {},
     "output_type": "display_data"
    },
    {
     "data": {
      "text/html": [
       "Find internal logs for this run at: <code>/home/jroessler/jupyterhub/rsna/notebooks/wandb/run-20210824_123557-3d9ebcpb/logs/debug-internal.log</code>"
      ],
      "text/plain": [
       "<IPython.core.display.HTML object>"
      ]
     },
     "metadata": {},
     "output_type": "display_data"
    },
    {
     "data": {
      "text/html": [
       "<h3>Run summary:</h3><br/><style>\n",
       "    table.wandb td:nth-child(1) { padding: 0 10px; text-align: right }\n",
       "    </style><table class=\"wandb\">\n",
       "<tr><td>epoch</td><td>9</td></tr><tr><td>train_loss</td><td>0.65001</td></tr><tr><td>train_roc</td><td>0.61904</td></tr><tr><td>_runtime</td><td>4891</td></tr><tr><td>_timestamp</td><td>1629813448</td></tr><tr><td>_step</td><td>19</td></tr><tr><td>valid_loss</td><td>0.69187</td></tr><tr><td>valid_roc</td><td>0.51016</td></tr><tr><td>best_loss</td><td>0.68168</td></tr><tr><td>best_roc</td><td>0.51703</td></tr></table>"
      ],
      "text/plain": [
       "<IPython.core.display.HTML object>"
      ]
     },
     "metadata": {},
     "output_type": "display_data"
    },
    {
     "data": {
      "text/html": [
       "<h3>Run history:</h3><br/><style>\n",
       "    table.wandb td:nth-child(1) { padding: 0 10px; text-align: right }\n",
       "    </style><table class=\"wandb\">\n",
       "<tr><td>epoch</td><td>▁▁▂▂▃▃▃▃▄▄▅▅▆▆▆▆▇▇██</td></tr><tr><td>train_loss</td><td>▄██▅▄▂▁▁▁▁</td></tr><tr><td>train_roc</td><td>▁▂▁▁▁▃▆█▇▇</td></tr><tr><td>_runtime</td><td>▁▁▂▂▃▃▃▃▄▄▅▅▆▆▆▆▇▇██</td></tr><tr><td>_timestamp</td><td>▁▁▂▂▃▃▃▃▄▄▅▅▆▆▆▆▇▇██</td></tr><tr><td>_step</td><td>▁▁▂▂▂▃▃▄▄▄▅▅▅▆▆▇▇▇██</td></tr><tr><td>valid_loss</td><td>▁█▇▂▄▁▁▁▁▁</td></tr><tr><td>valid_roc</td><td>▆▁▁▃▁█▃▁▁▂</td></tr></table><br/>"
      ],
      "text/plain": [
       "<IPython.core.display.HTML object>"
      ]
     },
     "metadata": {},
     "output_type": "display_data"
    },
    {
     "data": {
      "text/html": [
       "Synced 5 W&B file(s), 0 media file(s), 0 artifact file(s) and 0 other file(s)"
      ],
      "text/plain": [
       "<IPython.core.display.HTML object>"
      ]
     },
     "metadata": {},
     "output_type": "display_data"
    },
    {
     "data": {
      "text/html": [
       "\n",
       "                    <br/>Synced <strong style=\"color:#cdcd00\">snowy-sound-31</strong>: <a href=\"https://wandb.ai/uzk-wim/rsna-miccai-k-fold/runs/3d9ebcpb\" target=\"_blank\">https://wandb.ai/uzk-wim/rsna-miccai-k-fold/runs/3d9ebcpb</a><br/>\n",
       "                "
      ],
      "text/plain": [
       "<IPython.core.display.HTML object>"
      ]
     },
     "metadata": {},
     "output_type": "display_data"
    },
    {
     "name": "stderr",
     "output_type": "stream",
     "text": [
      "\u001b[34m\u001b[1mwandb\u001b[0m: wandb version 0.12.0 is available!  To upgrade, please run:\n",
      "\u001b[34m\u001b[1mwandb\u001b[0m:  $ pip install wandb --upgrade\n"
     ]
    },
    {
     "data": {
      "text/html": [
       "\n",
       "                Tracking run with wandb version 0.11.1<br/>\n",
       "                Syncing run <strong style=\"color:#cdcd00\">happy-breeze-32</strong> to <a href=\"https://wandb.ai\" target=\"_blank\">Weights & Biases</a> <a href=\"https://docs.wandb.com/integrations/jupyter.html\" target=\"_blank\">(Documentation)</a>.<br/>\n",
       "                Project page: <a href=\"https://wandb.ai/uzk-wim/rsna-miccai-k-fold\" target=\"_blank\">https://wandb.ai/uzk-wim/rsna-miccai-k-fold</a><br/>\n",
       "                Run page: <a href=\"https://wandb.ai/uzk-wim/rsna-miccai-k-fold/runs/1hx4rv0y\" target=\"_blank\">https://wandb.ai/uzk-wim/rsna-miccai-k-fold/runs/1hx4rv0y</a><br/>\n",
       "                Run data is saved locally in <code>/home/jroessler/jupyterhub/rsna/notebooks/wandb/run-20210824_135733-1hx4rv0y</code><br/><br/>\n",
       "            "
      ],
      "text/plain": [
       "<IPython.core.display.HTML object>"
      ]
     },
     "metadata": {},
     "output_type": "display_data"
    },
    {
     "name": "stderr",
     "output_type": "stream",
     "text": [
      "Training: 100%|██████████| 15/15 [06:51<00:00, 27.44s/it]\n",
      "Validation: 100%|██████████| 4/4 [01:22<00:00, 20.61s/it]\n",
      "Training: 100%|██████████| 15/15 [06:44<00:00, 26.99s/it]\n",
      "Validation: 100%|██████████| 4/4 [01:22<00:00, 20.73s/it]\n",
      "Training: 100%|██████████| 15/15 [06:45<00:00, 27.06s/it]\n",
      "Validation: 100%|██████████| 4/4 [01:22<00:00, 20.72s/it]\n",
      "Training: 100%|██████████| 15/15 [06:47<00:00, 27.14s/it]\n",
      "Validation: 100%|██████████| 4/4 [01:19<00:00, 19.93s/it]\n",
      "Training: 100%|██████████| 15/15 [06:36<00:00, 26.41s/it]\n",
      "Validation: 100%|██████████| 4/4 [01:20<00:00, 20.04s/it]\n",
      "Training: 100%|██████████| 15/15 [06:40<00:00, 26.72s/it]\n",
      "Validation: 100%|██████████| 4/4 [01:23<00:00, 20.88s/it]\n",
      "Training: 100%|██████████| 15/15 [06:54<00:00, 27.65s/it]\n",
      "Validation: 100%|██████████| 4/4 [01:20<00:00, 20.22s/it]\n",
      "Training: 100%|██████████| 15/15 [06:48<00:00, 27.26s/it]\n",
      "Validation: 100%|██████████| 4/4 [01:21<00:00, 20.30s/it]\n",
      "Training: 100%|██████████| 15/15 [06:44<00:00, 26.98s/it]\n",
      "Validation: 100%|██████████| 4/4 [01:20<00:00, 20.15s/it]\n",
      "Training: 100%|██████████| 15/15 [06:47<00:00, 27.16s/it]\n",
      "Validation: 100%|██████████| 4/4 [01:21<00:00, 20.29s/it]\n"
     ]
    },
    {
     "data": {
      "text/html": [
       "<br/>Waiting for W&B process to finish, PID 78799<br/>Program ended successfully."
      ],
      "text/plain": [
       "<IPython.core.display.HTML object>"
      ]
     },
     "metadata": {},
     "output_type": "display_data"
    },
    {
     "data": {
      "application/vnd.jupyter.widget-view+json": {
       "model_id": "7abbd90fedd941b499b31fbe9ec2f5f3",
       "version_major": 2,
       "version_minor": 0
      },
      "text/plain": [
       "VBox(children=(Label(value=' 0.00MB of 0.00MB uploaded (0.00MB deduped)\\r'), FloatProgress(value=1.0, max=1.0)…"
      ]
     },
     "metadata": {},
     "output_type": "display_data"
    },
    {
     "data": {
      "text/html": [
       "Find user logs for this run at: <code>/home/jroessler/jupyterhub/rsna/notebooks/wandb/run-20210824_135733-1hx4rv0y/logs/debug.log</code>"
      ],
      "text/plain": [
       "<IPython.core.display.HTML object>"
      ]
     },
     "metadata": {},
     "output_type": "display_data"
    },
    {
     "data": {
      "text/html": [
       "Find internal logs for this run at: <code>/home/jroessler/jupyterhub/rsna/notebooks/wandb/run-20210824_135733-1hx4rv0y/logs/debug-internal.log</code>"
      ],
      "text/plain": [
       "<IPython.core.display.HTML object>"
      ]
     },
     "metadata": {},
     "output_type": "display_data"
    },
    {
     "data": {
      "text/html": [
       "<h3>Run summary:</h3><br/><style>\n",
       "    table.wandb td:nth-child(1) { padding: 0 10px; text-align: right }\n",
       "    </style><table class=\"wandb\">\n",
       "<tr><td>epoch</td><td>9</td></tr><tr><td>train_loss</td><td>0.63744</td></tr><tr><td>train_roc</td><td>0.62566</td></tr><tr><td>_runtime</td><td>4880</td></tr><tr><td>_timestamp</td><td>1629818333</td></tr><tr><td>_step</td><td>19</td></tr><tr><td>valid_loss</td><td>0.69799</td></tr><tr><td>valid_roc</td><td>0.52683</td></tr><tr><td>best_loss</td><td>0.68696</td></tr><tr><td>best_roc</td><td>0.5234</td></tr></table>"
      ],
      "text/plain": [
       "<IPython.core.display.HTML object>"
      ]
     },
     "metadata": {},
     "output_type": "display_data"
    },
    {
     "data": {
      "text/html": [
       "<h3>Run history:</h3><br/><style>\n",
       "    table.wandb td:nth-child(1) { padding: 0 10px; text-align: right }\n",
       "    </style><table class=\"wandb\">\n",
       "<tr><td>epoch</td><td>▁▁▂▂▃▃▃▃▄▄▅▅▆▆▆▆▇▇██</td></tr><tr><td>train_loss</td><td>█▅▄▃▃▂▂▁▂▁</td></tr><tr><td>train_roc</td><td>▁▆▅███▇▇▇█</td></tr><tr><td>_runtime</td><td>▁▁▂▂▃▃▃▃▄▄▅▅▆▆▆▆▇▇██</td></tr><tr><td>_timestamp</td><td>▁▁▂▂▃▃▃▃▄▄▅▅▆▆▆▆▇▇██</td></tr><tr><td>_step</td><td>▁▁▂▂▂▃▃▄▄▄▅▅▅▆▆▇▇▇██</td></tr><tr><td>valid_loss</td><td>█▅▁▅▄▂▂▂▃▂</td></tr><tr><td>valid_roc</td><td>█▃▁▅▁▁▃▂▂▁</td></tr></table><br/>"
      ],
      "text/plain": [
       "<IPython.core.display.HTML object>"
      ]
     },
     "metadata": {},
     "output_type": "display_data"
    },
    {
     "data": {
      "text/html": [
       "Synced 5 W&B file(s), 0 media file(s), 0 artifact file(s) and 0 other file(s)"
      ],
      "text/plain": [
       "<IPython.core.display.HTML object>"
      ]
     },
     "metadata": {},
     "output_type": "display_data"
    },
    {
     "data": {
      "text/html": [
       "\n",
       "                    <br/>Synced <strong style=\"color:#cdcd00\">happy-breeze-32</strong>: <a href=\"https://wandb.ai/uzk-wim/rsna-miccai-k-fold/runs/1hx4rv0y\" target=\"_blank\">https://wandb.ai/uzk-wim/rsna-miccai-k-fold/runs/1hx4rv0y</a><br/>\n",
       "                "
      ],
      "text/plain": [
       "<IPython.core.display.HTML object>"
      ]
     },
     "metadata": {},
     "output_type": "display_data"
    },
    {
     "name": "stderr",
     "output_type": "stream",
     "text": [
      "\u001b[34m\u001b[1mwandb\u001b[0m: wandb version 0.12.0 is available!  To upgrade, please run:\n",
      "\u001b[34m\u001b[1mwandb\u001b[0m:  $ pip install wandb --upgrade\n"
     ]
    },
    {
     "data": {
      "text/html": [
       "\n",
       "                Tracking run with wandb version 0.11.1<br/>\n",
       "                Syncing run <strong style=\"color:#cdcd00\">sage-sunset-33</strong> to <a href=\"https://wandb.ai\" target=\"_blank\">Weights & Biases</a> <a href=\"https://docs.wandb.com/integrations/jupyter.html\" target=\"_blank\">(Documentation)</a>.<br/>\n",
       "                Project page: <a href=\"https://wandb.ai/uzk-wim/rsna-miccai-k-fold\" target=\"_blank\">https://wandb.ai/uzk-wim/rsna-miccai-k-fold</a><br/>\n",
       "                Run page: <a href=\"https://wandb.ai/uzk-wim/rsna-miccai-k-fold/runs/32g45i2b\" target=\"_blank\">https://wandb.ai/uzk-wim/rsna-miccai-k-fold/runs/32g45i2b</a><br/>\n",
       "                Run data is saved locally in <code>/home/jroessler/jupyterhub/rsna/notebooks/wandb/run-20210824_151857-32g45i2b</code><br/><br/>\n",
       "            "
      ],
      "text/plain": [
       "<IPython.core.display.HTML object>"
      ]
     },
     "metadata": {},
     "output_type": "display_data"
    },
    {
     "name": "stderr",
     "output_type": "stream",
     "text": [
      "Training: 100%|██████████| 15/15 [06:42<00:00, 26.85s/it]\n",
      "Validation: 100%|██████████| 4/4 [01:21<00:00, 20.48s/it]\n",
      "Training: 100%|██████████| 15/15 [06:47<00:00, 27.18s/it]\n",
      "Validation: 100%|██████████| 4/4 [01:22<00:00, 20.75s/it]\n",
      "Training: 100%|██████████| 15/15 [06:51<00:00, 27.41s/it]\n",
      "Validation: 100%|██████████| 4/4 [01:23<00:00, 20.82s/it]\n",
      "Training: 100%|██████████| 15/15 [06:42<00:00, 26.83s/it]\n",
      "Validation: 100%|██████████| 4/4 [01:22<00:00, 20.54s/it]\n",
      "Training: 100%|██████████| 15/15 [06:47<00:00, 27.16s/it]\n",
      "Validation: 100%|██████████| 4/4 [01:22<00:00, 20.70s/it]\n",
      "Training: 100%|██████████| 15/15 [06:49<00:00, 27.28s/it]\n",
      "Validation: 100%|██████████| 4/4 [01:23<00:00, 20.85s/it]\n",
      "Training: 100%|██████████| 15/15 [06:52<00:00, 27.49s/it]\n",
      "Validation: 100%|██████████| 4/4 [01:24<00:00, 21.10s/it]\n",
      "Training: 100%|██████████| 15/15 [06:43<00:00, 26.88s/it]\n",
      "Validation: 100%|██████████| 4/4 [01:23<00:00, 20.92s/it]\n",
      "Training: 100%|██████████| 15/15 [06:34<00:00, 26.27s/it]\n",
      "Validation: 100%|██████████| 4/4 [01:21<00:00, 20.42s/it]\n",
      "Training: 100%|██████████| 15/15 [06:50<00:00, 27.37s/it]\n",
      "Validation: 100%|██████████| 4/4 [01:21<00:00, 20.46s/it]\n"
     ]
    },
    {
     "data": {
      "text/html": [
       "<br/>Waiting for W&B process to finish, PID 105822<br/>Program ended successfully."
      ],
      "text/plain": [
       "<IPython.core.display.HTML object>"
      ]
     },
     "metadata": {},
     "output_type": "display_data"
    },
    {
     "data": {
      "application/vnd.jupyter.widget-view+json": {
       "model_id": "ae0627525deb4dcc82c6f836b56e5c7d",
       "version_major": 2,
       "version_minor": 0
      },
      "text/plain": [
       "VBox(children=(Label(value=' 0.00MB of 0.00MB uploaded (0.00MB deduped)\\r'), FloatProgress(value=1.0, max=1.0)…"
      ]
     },
     "metadata": {},
     "output_type": "display_data"
    },
    {
     "data": {
      "text/html": [
       "Find user logs for this run at: <code>/home/jroessler/jupyterhub/rsna/notebooks/wandb/run-20210824_151857-32g45i2b/logs/debug.log</code>"
      ],
      "text/plain": [
       "<IPython.core.display.HTML object>"
      ]
     },
     "metadata": {},
     "output_type": "display_data"
    },
    {
     "data": {
      "text/html": [
       "Find internal logs for this run at: <code>/home/jroessler/jupyterhub/rsna/notebooks/wandb/run-20210824_151857-32g45i2b/logs/debug-internal.log</code>"
      ],
      "text/plain": [
       "<IPython.core.display.HTML object>"
      ]
     },
     "metadata": {},
     "output_type": "display_data"
    },
    {
     "data": {
      "text/html": [
       "<h3>Run summary:</h3><br/><style>\n",
       "    table.wandb td:nth-child(1) { padding: 0 10px; text-align: right }\n",
       "    </style><table class=\"wandb\">\n",
       "<tr><td>epoch</td><td>9</td></tr><tr><td>train_loss</td><td>0.68085</td></tr><tr><td>train_roc</td><td>0.55248</td></tr><tr><td>_runtime</td><td>4891</td></tr><tr><td>_timestamp</td><td>1629823228</td></tr><tr><td>_step</td><td>19</td></tr><tr><td>valid_loss</td><td>0.66458</td></tr><tr><td>valid_roc</td><td>0.5997</td></tr><tr><td>best_loss</td><td>0.66216</td></tr><tr><td>best_roc</td><td>0.5851</td></tr></table>"
      ],
      "text/plain": [
       "<IPython.core.display.HTML object>"
      ]
     },
     "metadata": {},
     "output_type": "display_data"
    },
    {
     "data": {
      "text/html": [
       "<h3>Run history:</h3><br/><style>\n",
       "    table.wandb td:nth-child(1) { padding: 0 10px; text-align: right }\n",
       "    </style><table class=\"wandb\">\n",
       "<tr><td>epoch</td><td>▁▁▂▂▃▃▃▃▄▄▅▅▆▆▆▆▇▇██</td></tr><tr><td>train_loss</td><td>█▃▆▃▃▁▆▄▄▄</td></tr><tr><td>train_roc</td><td>▁█▆▆▅█▆▅▄▅</td></tr><tr><td>_runtime</td><td>▁▁▂▂▃▃▃▃▄▄▅▅▆▆▆▆▇▇██</td></tr><tr><td>_timestamp</td><td>▁▁▂▂▃▃▃▃▄▄▅▅▆▆▆▆▇▇██</td></tr><tr><td>_step</td><td>▁▁▂▂▂▃▃▄▄▄▅▅▅▆▆▇▇▇██</td></tr><tr><td>valid_loss</td><td>▁▄▅▅▆▇▇█▇▇</td></tr><tr><td>valid_roc</td><td>▁▃▃▃█▃▃▃█▅</td></tr></table><br/>"
      ],
      "text/plain": [
       "<IPython.core.display.HTML object>"
      ]
     },
     "metadata": {},
     "output_type": "display_data"
    },
    {
     "data": {
      "text/html": [
       "Synced 5 W&B file(s), 0 media file(s), 0 artifact file(s) and 0 other file(s)"
      ],
      "text/plain": [
       "<IPython.core.display.HTML object>"
      ]
     },
     "metadata": {},
     "output_type": "display_data"
    },
    {
     "data": {
      "text/html": [
       "\n",
       "                    <br/>Synced <strong style=\"color:#cdcd00\">sage-sunset-33</strong>: <a href=\"https://wandb.ai/uzk-wim/rsna-miccai-k-fold/runs/32g45i2b\" target=\"_blank\">https://wandb.ai/uzk-wim/rsna-miccai-k-fold/runs/32g45i2b</a><br/>\n",
       "                "
      ],
      "text/plain": [
       "<IPython.core.display.HTML object>"
      ]
     },
     "metadata": {},
     "output_type": "display_data"
    },
    {
     "name": "stderr",
     "output_type": "stream",
     "text": [
      "\u001b[34m\u001b[1mwandb\u001b[0m: wandb version 0.12.0 is available!  To upgrade, please run:\n",
      "\u001b[34m\u001b[1mwandb\u001b[0m:  $ pip install wandb --upgrade\n"
     ]
    },
    {
     "data": {
      "text/html": [
       "\n",
       "                Tracking run with wandb version 0.11.1<br/>\n",
       "                Syncing run <strong style=\"color:#cdcd00\">glad-disco-34</strong> to <a href=\"https://wandb.ai\" target=\"_blank\">Weights & Biases</a> <a href=\"https://docs.wandb.com/integrations/jupyter.html\" target=\"_blank\">(Documentation)</a>.<br/>\n",
       "                Project page: <a href=\"https://wandb.ai/uzk-wim/rsna-miccai-k-fold\" target=\"_blank\">https://wandb.ai/uzk-wim/rsna-miccai-k-fold</a><br/>\n",
       "                Run page: <a href=\"https://wandb.ai/uzk-wim/rsna-miccai-k-fold/runs/3rzvmxsm\" target=\"_blank\">https://wandb.ai/uzk-wim/rsna-miccai-k-fold/runs/3rzvmxsm</a><br/>\n",
       "                Run data is saved locally in <code>/home/jroessler/jupyterhub/rsna/notebooks/wandb/run-20210824_164032-3rzvmxsm</code><br/><br/>\n",
       "            "
      ],
      "text/plain": [
       "<IPython.core.display.HTML object>"
      ]
     },
     "metadata": {},
     "output_type": "display_data"
    },
    {
     "name": "stderr",
     "output_type": "stream",
     "text": [
      "Training: 100%|██████████| 15/15 [06:37<00:00, 26.49s/it]\n",
      "Validation: 100%|██████████| 4/4 [01:21<00:00, 20.31s/it]\n",
      "Training: 100%|██████████| 15/15 [06:40<00:00, 26.71s/it]\n",
      "Validation: 100%|██████████| 4/4 [01:22<00:00, 20.56s/it]\n",
      "Training: 100%|██████████| 15/15 [06:38<00:00, 26.60s/it]\n",
      "Validation: 100%|██████████| 4/4 [01:20<00:00, 20.23s/it]\n",
      "Training: 100%|██████████| 15/15 [06:48<00:00, 27.23s/it]\n",
      "Validation: 100%|██████████| 4/4 [01:21<00:00, 20.40s/it]\n",
      "Training: 100%|██████████| 15/15 [06:44<00:00, 26.96s/it]\n",
      "Validation: 100%|██████████| 4/4 [01:22<00:00, 20.66s/it]\n",
      "Training: 100%|██████████| 15/15 [06:46<00:00, 27.12s/it]\n",
      "Validation: 100%|██████████| 4/4 [01:24<00:00, 21.06s/it]\n",
      "Training: 100%|██████████| 15/15 [06:46<00:00, 27.13s/it]\n",
      "Validation: 100%|██████████| 4/4 [01:21<00:00, 20.32s/it]\n",
      "Training: 100%|██████████| 15/15 [06:34<00:00, 26.30s/it]\n",
      "Validation: 100%|██████████| 4/4 [01:21<00:00, 20.29s/it]\n",
      "Training: 100%|██████████| 15/15 [06:51<00:00, 27.41s/it]\n",
      "Validation: 100%|██████████| 4/4 [01:20<00:00, 20.24s/it]\n",
      "Training: 100%|██████████| 15/15 [06:33<00:00, 26.23s/it]\n",
      "Validation: 100%|██████████| 4/4 [01:23<00:00, 20.98s/it]\n"
     ]
    },
    {
     "data": {
      "text/html": [
       "<br/>Waiting for W&B process to finish, PID 2423<br/>Program ended successfully."
      ],
      "text/plain": [
       "<IPython.core.display.HTML object>"
      ]
     },
     "metadata": {},
     "output_type": "display_data"
    },
    {
     "data": {
      "application/vnd.jupyter.widget-view+json": {
       "model_id": "c53008fed09f418db4442abf9b8bdca5",
       "version_major": 2,
       "version_minor": 0
      },
      "text/plain": [
       "VBox(children=(Label(value=' 0.00MB of 0.00MB uploaded (0.00MB deduped)\\r'), FloatProgress(value=1.0, max=1.0)…"
      ]
     },
     "metadata": {},
     "output_type": "display_data"
    },
    {
     "data": {
      "text/html": [
       "Find user logs for this run at: <code>/home/jroessler/jupyterhub/rsna/notebooks/wandb/run-20210824_164032-3rzvmxsm/logs/debug.log</code>"
      ],
      "text/plain": [
       "<IPython.core.display.HTML object>"
      ]
     },
     "metadata": {},
     "output_type": "display_data"
    },
    {
     "data": {
      "text/html": [
       "Find internal logs for this run at: <code>/home/jroessler/jupyterhub/rsna/notebooks/wandb/run-20210824_164032-3rzvmxsm/logs/debug-internal.log</code>"
      ],
      "text/plain": [
       "<IPython.core.display.HTML object>"
      ]
     },
     "metadata": {},
     "output_type": "display_data"
    },
    {
     "data": {
      "text/html": [
       "<h3>Run summary:</h3><br/><style>\n",
       "    table.wandb td:nth-child(1) { padding: 0 10px; text-align: right }\n",
       "    </style><table class=\"wandb\">\n",
       "<tr><td>epoch</td><td>9</td></tr><tr><td>train_loss</td><td>0.69724</td></tr><tr><td>train_roc</td><td>0.53066</td></tr><tr><td>_runtime</td><td>4845</td></tr><tr><td>_timestamp</td><td>1629828077</td></tr><tr><td>_step</td><td>19</td></tr><tr><td>valid_loss</td><td>0.68812</td></tr><tr><td>valid_roc</td><td>0.52796</td></tr><tr><td>best_loss</td><td>0.68542</td></tr><tr><td>best_roc</td><td>0.52722</td></tr></table>"
      ],
      "text/plain": [
       "<IPython.core.display.HTML object>"
      ]
     },
     "metadata": {},
     "output_type": "display_data"
    },
    {
     "data": {
      "text/html": [
       "<h3>Run history:</h3><br/><style>\n",
       "    table.wandb td:nth-child(1) { padding: 0 10px; text-align: right }\n",
       "    </style><table class=\"wandb\">\n",
       "<tr><td>epoch</td><td>▁▁▂▂▃▃▃▃▄▄▅▅▆▆▆▆▇▇██</td></tr><tr><td>train_loss</td><td>▇█▂▇▅▃▇▅▁▅</td></tr><tr><td>train_roc</td><td>▁▇█▃▆▆▅▆▇▅</td></tr><tr><td>_runtime</td><td>▁▁▂▂▃▃▃▃▄▄▅▅▆▆▆▆▇▇██</td></tr><tr><td>_timestamp</td><td>▁▁▂▂▃▃▃▃▄▄▅▅▆▆▆▆▇▇██</td></tr><tr><td>_step</td><td>▁▁▂▂▂▃▃▄▄▄▅▅▅▆▆▇▇▇██</td></tr><tr><td>valid_loss</td><td>▅█▃▇▅▅▄▁▃█</td></tr><tr><td>valid_roc</td><td>▇██████▇▁█</td></tr></table><br/>"
      ],
      "text/plain": [
       "<IPython.core.display.HTML object>"
      ]
     },
     "metadata": {},
     "output_type": "display_data"
    },
    {
     "data": {
      "text/html": [
       "Synced 5 W&B file(s), 0 media file(s), 0 artifact file(s) and 0 other file(s)"
      ],
      "text/plain": [
       "<IPython.core.display.HTML object>"
      ]
     },
     "metadata": {},
     "output_type": "display_data"
    },
    {
     "data": {
      "text/html": [
       "\n",
       "                    <br/>Synced <strong style=\"color:#cdcd00\">glad-disco-34</strong>: <a href=\"https://wandb.ai/uzk-wim/rsna-miccai-k-fold/runs/3rzvmxsm\" target=\"_blank\">https://wandb.ai/uzk-wim/rsna-miccai-k-fold/runs/3rzvmxsm</a><br/>\n",
       "                "
      ],
      "text/plain": [
       "<IPython.core.display.HTML object>"
      ]
     },
     "metadata": {},
     "output_type": "display_data"
    },
    {
     "name": "stderr",
     "output_type": "stream",
     "text": [
      "\u001b[34m\u001b[1mwandb\u001b[0m: wandb version 0.12.0 is available!  To upgrade, please run:\n",
      "\u001b[34m\u001b[1mwandb\u001b[0m:  $ pip install wandb --upgrade\n"
     ]
    },
    {
     "data": {
      "text/html": [
       "\n",
       "                Tracking run with wandb version 0.11.1<br/>\n",
       "                Syncing run <strong style=\"color:#cdcd00\">zany-dragon-35</strong> to <a href=\"https://wandb.ai\" target=\"_blank\">Weights & Biases</a> <a href=\"https://docs.wandb.com/integrations/jupyter.html\" target=\"_blank\">(Documentation)</a>.<br/>\n",
       "                Project page: <a href=\"https://wandb.ai/uzk-wim/rsna-miccai-k-fold\" target=\"_blank\">https://wandb.ai/uzk-wim/rsna-miccai-k-fold</a><br/>\n",
       "                Run page: <a href=\"https://wandb.ai/uzk-wim/rsna-miccai-k-fold/runs/11o5tdbv\" target=\"_blank\">https://wandb.ai/uzk-wim/rsna-miccai-k-fold/runs/11o5tdbv</a><br/>\n",
       "                Run data is saved locally in <code>/home/jroessler/jupyterhub/rsna/notebooks/wandb/run-20210824_180121-11o5tdbv</code><br/><br/>\n",
       "            "
      ],
      "text/plain": [
       "<IPython.core.display.HTML object>"
      ]
     },
     "metadata": {},
     "output_type": "display_data"
    },
    {
     "name": "stderr",
     "output_type": "stream",
     "text": [
      "Training: 100%|██████████| 15/15 [06:51<00:00, 27.44s/it]\n",
      "Validation: 100%|██████████| 4/4 [01:22<00:00, 20.57s/it]\n",
      "Training: 100%|██████████| 15/15 [06:39<00:00, 26.66s/it]\n",
      "Validation: 100%|██████████| 4/4 [01:24<00:00, 21.14s/it]\n",
      "Training: 100%|██████████| 15/15 [06:46<00:00, 27.11s/it]\n",
      "Validation: 100%|██████████| 4/4 [01:21<00:00, 20.28s/it]\n",
      "Training: 100%|██████████| 15/15 [06:37<00:00, 26.49s/it]\n",
      "Validation: 100%|██████████| 4/4 [01:21<00:00, 20.44s/it]\n",
      "Training: 100%|██████████| 15/15 [06:50<00:00, 27.34s/it]\n",
      "Validation: 100%|██████████| 4/4 [01:22<00:00, 20.72s/it]\n",
      "Training: 100%|██████████| 15/15 [06:40<00:00, 26.73s/it]\n",
      "Validation: 100%|██████████| 4/4 [01:23<00:00, 20.98s/it]\n",
      "Training: 100%|██████████| 15/15 [06:43<00:00, 26.91s/it]\n",
      "Validation: 100%|██████████| 4/4 [01:21<00:00, 20.37s/it]\n",
      "Training: 100%|██████████| 15/15 [06:35<00:00, 26.36s/it]\n",
      "Validation: 100%|██████████| 4/4 [01:21<00:00, 20.43s/it]\n",
      "Training: 100%|██████████| 15/15 [06:44<00:00, 27.00s/it]\n",
      "Validation: 100%|██████████| 4/4 [01:21<00:00, 20.29s/it]\n",
      "Training: 100%|██████████| 15/15 [06:41<00:00, 26.77s/it]\n",
      "Validation: 100%|██████████| 4/4 [01:20<00:00, 20.15s/it]\n"
     ]
    },
    {
     "data": {
      "text/html": [
       "<br/>Waiting for W&B process to finish, PID 29412<br/>Program ended successfully."
      ],
      "text/plain": [
       "<IPython.core.display.HTML object>"
      ]
     },
     "metadata": {},
     "output_type": "display_data"
    },
    {
     "data": {
      "application/vnd.jupyter.widget-view+json": {
       "model_id": "ab70fb2bdb234c6f85f9982471f47949",
       "version_major": 2,
       "version_minor": 0
      },
      "text/plain": [
       "VBox(children=(Label(value=' 0.00MB of 0.00MB uploaded (0.00MB deduped)\\r'), FloatProgress(value=1.0, max=1.0)…"
      ]
     },
     "metadata": {},
     "output_type": "display_data"
    },
    {
     "data": {
      "text/html": [
       "Find user logs for this run at: <code>/home/jroessler/jupyterhub/rsna/notebooks/wandb/run-20210824_180121-11o5tdbv/logs/debug.log</code>"
      ],
      "text/plain": [
       "<IPython.core.display.HTML object>"
      ]
     },
     "metadata": {},
     "output_type": "display_data"
    },
    {
     "data": {
      "text/html": [
       "Find internal logs for this run at: <code>/home/jroessler/jupyterhub/rsna/notebooks/wandb/run-20210824_180121-11o5tdbv/logs/debug-internal.log</code>"
      ],
      "text/plain": [
       "<IPython.core.display.HTML object>"
      ]
     },
     "metadata": {},
     "output_type": "display_data"
    },
    {
     "data": {
      "text/html": [
       "<h3>Run summary:</h3><br/><style>\n",
       "    table.wandb td:nth-child(1) { padding: 0 10px; text-align: right }\n",
       "    </style><table class=\"wandb\">\n",
       "<tr><td>epoch</td><td>9</td></tr><tr><td>train_loss</td><td>0.68004</td></tr><tr><td>train_roc</td><td>0.56521</td></tr><tr><td>_runtime</td><td>4856</td></tr><tr><td>_timestamp</td><td>1629832937</td></tr><tr><td>_step</td><td>19</td></tr><tr><td>valid_loss</td><td>0.70496</td></tr><tr><td>valid_roc</td><td>0.54728</td></tr><tr><td>best_loss</td><td>0.70451</td></tr><tr><td>best_roc</td><td>0.54655</td></tr></table>"
      ],
      "text/plain": [
       "<IPython.core.display.HTML object>"
      ]
     },
     "metadata": {},
     "output_type": "display_data"
    },
    {
     "data": {
      "text/html": [
       "<h3>Run history:</h3><br/><style>\n",
       "    table.wandb td:nth-child(1) { padding: 0 10px; text-align: right }\n",
       "    </style><table class=\"wandb\">\n",
       "<tr><td>epoch</td><td>▁▁▂▂▃▃▃▃▄▄▅▅▆▆▆▆▇▇██</td></tr><tr><td>train_loss</td><td>▁▂▄█▃▁▃▄▂█</td></tr><tr><td>train_roc</td><td>▄█▄▂▅▅▅▁▃▂</td></tr><tr><td>_runtime</td><td>▁▁▂▂▃▃▃▃▄▄▅▅▆▆▆▆▇▇██</td></tr><tr><td>_timestamp</td><td>▁▁▂▂▃▃▃▃▄▄▅▅▆▆▆▆▇▇██</td></tr><tr><td>_step</td><td>▁▁▂▂▂▃▃▄▄▄▅▅▅▆▆▇▇▇██</td></tr><tr><td>valid_loss</td><td>▄▄▃▆▁▃▂█▇▂</td></tr><tr><td>valid_roc</td><td>▆▅█▆█▆▁▃▇█</td></tr></table><br/>"
      ],
      "text/plain": [
       "<IPython.core.display.HTML object>"
      ]
     },
     "metadata": {},
     "output_type": "display_data"
    },
    {
     "data": {
      "text/html": [
       "Synced 5 W&B file(s), 0 media file(s), 0 artifact file(s) and 0 other file(s)"
      ],
      "text/plain": [
       "<IPython.core.display.HTML object>"
      ]
     },
     "metadata": {},
     "output_type": "display_data"
    },
    {
     "data": {
      "text/html": [
       "\n",
       "                    <br/>Synced <strong style=\"color:#cdcd00\">zany-dragon-35</strong>: <a href=\"https://wandb.ai/uzk-wim/rsna-miccai-k-fold/runs/11o5tdbv\" target=\"_blank\">https://wandb.ai/uzk-wim/rsna-miccai-k-fold/runs/11o5tdbv</a><br/>\n",
       "                "
      ],
      "text/plain": [
       "<IPython.core.display.HTML object>"
      ]
     },
     "metadata": {},
     "output_type": "display_data"
    }
   ],
   "source": [
    "loss_avg = []\n",
    "roc_avg = []\n",
    "\n",
    "kfold = StratifiedKFold(n_splits=config.N_SPLITS, shuffle=True, random_state=42)\n",
    "for i, (idx_train, idx_valid) in enumerate(kfold.split(df, df[\"MGMT_value\"])):\n",
    "    if i > 0:\n",
    "        run = wandb.init(entity=\"uzk-wim\", project='rsna-miccai-k-fold', config=config_dict, mode=\"online\", group=run_name)\n",
    "    wandb.run.name = f\"{config.MODELNAME}-{str(config.SLICE_NUMBER)}-{str(config.RRC_SIZE)}-{str(i)}\"\n",
    "    df_train = df.iloc[idx_train].copy()\n",
    "    df_valid = df.iloc[idx_valid].copy()\n",
    "    \n",
    "    train_ds = RSNADataset(df_train[\"BraTS21ID\"].to_numpy(), df_train[\"MGMT_value\"].to_numpy(), dicom=config.DICOM)\n",
    "    train_dl = DataLoader(train_ds, batch_size=config.BATCH_SIZE, shuffle=True)\n",
    "    valid_ds = RSNADataset(df_valid[\"BraTS21ID\"].to_numpy(), df_valid[\"MGMT_value\"].to_numpy(), split='valid', dicom=config.DICOM)\n",
    "    valid_dl = DataLoader(valid_ds, batch_size=config.BATCH_SIZE, shuffle=False)\n",
    "\n",
    "    best_loss, best_roc = training(model, config.N_EPOCHS, optimizer, loss_function, scheduler, train_dl, valid_dl, i)\n",
    "    loss_avg.append(best_loss)\n",
    "    roc_avg.append(best_roc)\n",
    "    \n",
    "    run.finish()"
   ]
  },
  {
   "cell_type": "markdown",
   "id": "9af4f297-3162-44e2-a3dc-9de25b3b560b",
   "metadata": {},
   "source": [
    "Done"
   ]
  }
 ],
 "metadata": {
  "kernelspec": {
   "display_name": "Python [pipenv: Kaggle]",
   "language": "python",
   "name": "kaggle_env"
  },
  "language_info": {
   "codemirror_mode": {
    "name": "ipython",
    "version": 3
   },
   "file_extension": ".py",
   "mimetype": "text/x-python",
   "name": "python",
   "nbconvert_exporter": "python",
   "pygments_lexer": "ipython3",
   "version": "3.6.8"
  }
 },
 "nbformat": 4,
 "nbformat_minor": 5
}
