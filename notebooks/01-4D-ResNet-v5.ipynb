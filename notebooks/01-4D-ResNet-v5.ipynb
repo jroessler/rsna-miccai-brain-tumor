{
 "cells": [
  {
   "cell_type": "markdown",
   "id": "17c4df0b-8f20-49bc-9e75-fcc5e3985edd",
   "metadata": {},
   "source": [
    "# 4D ResNet\n",
    "\n",
    "In this notebook we'll train a \"4D\" ResNet model (strickly speaking: it's still a 3D ResNet) using \"4D\" images.</br>\n",
    "We will use 5-fold CV to make the outcome more reliable.\n",
    "\n",
    "**4D images**\n",
    "* each image has the following shape: Channel x Width x Height x Depth\n",
    "* *channel:* the channel represents a specific MRI type. Further, <u>each</u> image contains all four MRI types (i.e., channel=4) --> That is why we say it is \"4D\"\n",
    "* *depth:* the depth represents the depth or the number of slices. I tried various values >= 30. Caution: If for a given patient id, the number of images <= the number of slices, we will replace the missing depth slices with zero matrices.\n",
    "* added some albumentation such as CLAHE, brightness, and CoarseDropout\n",
    "\n",
    "**Remove Black Pixels**\n",
    "* removed black pixels (see [Jose Carmona](https://www.kaggle.com/josecarmona/btrc-a-simple-tool-to-crop-3d-images))\n",
    "\n",
    "**4D ResNet18**\n",
    "* copied and edited from [3D-ResNets-PyTorch](https://github.com/kenshohara/3D-ResNets-PyTorch)\n",
    "\n",
    "**Slicing Strategy**\n",
    "* take each x-th slice from each 3D image, whereby x (e.g., 2,4,6) depends on the maximum number of slices + take SLICING_NUMBER middle slices if SLICING_NUMBER < depth\n",
    "\n",
    "**Other changes**\n",
    "* no augmentation; z-normalization; 3d-resizing"
   ]
  },
  {
   "cell_type": "markdown",
   "id": "f890c327-af46-4b0a-ae4f-66b0b1eb80e1",
   "metadata": {},
   "source": [
    "#### Imports"
   ]
  },
  {
   "cell_type": "code",
   "execution_count": 1,
   "id": "c7beefc9-1c77-469d-aa86-0852ce4d8528",
   "metadata": {},
   "outputs": [],
   "source": [
    "import os\n",
    "import random\n",
    "import glob\n",
    "import re\n",
    "\n",
    "import pandas as pd\n",
    "\n",
    "import numpy as np\n",
    "\n",
    "from sklearn.metrics import roc_auc_score\n",
    "from sklearn.model_selection import StratifiedKFold\n",
    "\n",
    "import matplotlib.pyplot as plt\n",
    "\n",
    "import torch\n",
    "import torch.nn as nn\n",
    "from torch.utils.data import Dataset, DataLoader\n",
    "import torch.nn.functional as F\n",
    "from torchvision import transforms, utils\n",
    "from torch.optim import lr_scheduler\n",
    "\n",
    "import pydicom\n",
    "from pydicom.pixel_data_handlers.util import apply_voi_lut\n",
    "\n",
    "import cv2\n",
    "\n",
    "import torchio as tio\n",
    "\n",
    "from tqdm import tqdm\n",
    "\n",
    "import wandb\n",
    "\n",
    "import warnings\n",
    "warnings.simplefilter(\"ignore\", UserWarning)\n",
    "warnings.simplefilter(\"ignore\", RuntimeWarning)"
   ]
  },
  {
   "cell_type": "markdown",
   "id": "c69032e1-e9c2-42b2-ad4b-41828b74a756",
   "metadata": {},
   "source": [
    "#### Seed"
   ]
  },
  {
   "cell_type": "code",
   "execution_count": 2,
   "id": "57758aa8-de49-474a-b7b9-23fc743a24c0",
   "metadata": {},
   "outputs": [],
   "source": [
    "def set_seed(seed):\n",
    "    random.seed(seed)\n",
    "    os.environ[\"PYTHONHASHSEED\"] = str(seed)\n",
    "    np.random.seed(seed)\n",
    "    torch.manual_seed(seed)\n",
    "    if torch.cuda.is_available():\n",
    "        torch.cuda.manual_seed_all(seed)\n",
    "        torch.backends.cudnn.deterministic = True\n",
    "\n",
    "\n",
    "set_seed(42)"
   ]
  },
  {
   "cell_type": "markdown",
   "id": "dbec598e-c1d5-435a-9916-f6912f6a9273",
   "metadata": {},
   "source": [
    "#### Settings"
   ]
  },
  {
   "cell_type": "code",
   "execution_count": 3,
   "id": "4e32d47a-6230-466f-a718-8f27dded6d58",
   "metadata": {},
   "outputs": [],
   "source": [
    "PATH = '../input/rsna-miccai-brain-tumor-radiogenomic-classification'"
   ]
  },
  {
   "cell_type": "markdown",
   "id": "3ddc7dbb-4714-42e3-b8d7-ecfcf2ad6a1f",
   "metadata": {},
   "source": [
    "#### Config"
   ]
  },
  {
   "cell_type": "code",
   "execution_count": 4,
   "id": "637e8ee0-af68-416c-bbb7-7f57286356f2",
   "metadata": {},
   "outputs": [],
   "source": [
    "config_dict = dict(\n",
    "    # Pre-processing\n",
    "    SLICE_NUMBER = 32, # >= 30\n",
    "    REMOVE_BLACK_BOUNDARIES = True,\n",
    "    DICOM=False,\n",
    "    \n",
    "    # Augmentation\n",
    "    SIZE = 256,\n",
    "    \n",
    "    # K-Fold\n",
    "    N_SPLITS = 5,\n",
    "    \n",
    "    # Training\n",
    "    N_EPOCHS = 10,\n",
    "    BATCH_SIZE = 32,\n",
    "    LEARNING_RATE = 0.01,\n",
    "    WEIGHT_DECAY = 0.02,\n",
    "    OPTIMIZER = \"SGD\",\n",
    "    MOMENTUM = 0.9,\n",
    "    SCHEDULER = \"ReduceLROnPlateau\",\n",
    "    \n",
    "    # Logging\n",
    "    VERBOSE = False,\n",
    "    MODELNAME = \"01-4D-ResNet-v5\"\n",
    ")\n",
    "\n",
    "device = torch.device('cuda' if torch.cuda.is_available() else 'cpu')"
   ]
  },
  {
   "cell_type": "markdown",
   "id": "2ee6ace1-a624-45dd-a40a-18dcd36d340b",
   "metadata": {},
   "source": [
    "#### wandb"
   ]
  },
  {
   "cell_type": "code",
   "execution_count": 5,
   "id": "716a67c0-30f1-4072-88e8-d89c4f346ae6",
   "metadata": {},
   "outputs": [
    {
     "name": "stderr",
     "output_type": "stream",
     "text": [
      "Failed to detect the name of this notebook, you can set it manually with the WANDB_NOTEBOOK_NAME environment variable to enable code saving.\n",
      "\u001b[34m\u001b[1mwandb\u001b[0m: Currently logged in as: \u001b[33mgusto\u001b[0m (use `wandb login --relogin` to force relogin)\n",
      "\u001b[34m\u001b[1mwandb\u001b[0m: wandb version 0.12.0 is available!  To upgrade, please run:\n",
      "\u001b[34m\u001b[1mwandb\u001b[0m:  $ pip install wandb --upgrade\n"
     ]
    },
    {
     "data": {
      "text/html": [
       "\n",
       "                Tracking run with wandb version 0.11.1<br/>\n",
       "                Syncing run <strong style=\"color:#cdcd00\">rare-monkey-37</strong> to <a href=\"https://wandb.ai\" target=\"_blank\">Weights & Biases</a> <a href=\"https://docs.wandb.com/integrations/jupyter.html\" target=\"_blank\">(Documentation)</a>.<br/>\n",
       "                Project page: <a href=\"https://wandb.ai/uzk-wim/rsna-miccai-k-fold\" target=\"_blank\">https://wandb.ai/uzk-wim/rsna-miccai-k-fold</a><br/>\n",
       "                Run page: <a href=\"https://wandb.ai/uzk-wim/rsna-miccai-k-fold/runs/s0ioc13k\" target=\"_blank\">https://wandb.ai/uzk-wim/rsna-miccai-k-fold/runs/s0ioc13k</a><br/>\n",
       "                Run data is saved locally in <code>/home/jroessler/jupyterhub/rsna/notebooks/wandb/run-20210824_211317-s0ioc13k</code><br/><br/>\n",
       "            "
      ],
      "text/plain": [
       "<IPython.core.display.HTML object>"
      ]
     },
     "metadata": {},
     "output_type": "display_data"
    }
   ],
   "source": [
    "wandb.login()\n",
    "run_name = f'{config_dict[\"MODELNAME\"]}-{str(config_dict[\"SLICE_NUMBER\"])}-{str(config_dict[\"SIZE\"])}'\n",
    "run = wandb.init(entity=\"uzk-wim\", project='rsna-miccai-k-fold', config=config_dict, mode=\"online\", group=run_name)\n",
    "config = wandb.config"
   ]
  },
  {
   "cell_type": "markdown",
   "id": "fe263350-abc7-47d3-a470-a57a7060b7e1",
   "metadata": {},
   "source": [
    "### 1. Load Data\n",
    "\n",
    "For each person, we were given *four* different MRI types: \n",
    "* FLAIR\n",
    "* T1w\n",
    "* T1wCE, and \n",
    "* T2w. \n",
    "\n",
    "We will create 3D images which are composed of each MRI type (4 sequences) where each sequence is composed of *slice_number* (e.g. 50) slices (i.e., depth).<br>\n",
    "Shape:  *Channel x Width x Height x Depth*\n"
   ]
  },
  {
   "cell_type": "markdown",
   "id": "96eb4664-2143-4c1b-9f81-7a58d16edd73",
   "metadata": {},
   "source": [
    "### 1.1 Utilities"
   ]
  },
  {
   "cell_type": "markdown",
   "id": "9601434a-0e7f-408f-a81e-2fbfe74957ed",
   "metadata": {},
   "source": [
    "#### 1.1.1 Augmentation"
   ]
  },
  {
   "cell_type": "code",
   "execution_count": 6,
   "id": "f73cfb99-8626-484b-a793-167cd030a281",
   "metadata": {},
   "outputs": [],
   "source": [
    "def train_augmentation(img, width, height, depth):\n",
    "\n",
    "    train_transform = tio.Compose([\n",
    "        tio.Resample((width, height, depth)),                         # Resample (resize) image\n",
    "        tio.RescaleIntensity((0, 1)),                                 # Rescale between 0 and 1\n",
    "        tio.ZNormalization(masking_method=lambda x: x > 1.0*x.mean()) # Z-Normalization: Subtract mean and divide by std\n",
    "    ])\n",
    "    \n",
    "    return train_transform(img) \n",
    "\n",
    "def valid_augmentation(img, width, height, depth):\n",
    "\n",
    "    valid_transform = tio.Compose([\n",
    "        tio.Resample((width, height, depth)),                         # Resample (resize) image\n",
    "        tio.RescaleIntensity((0, 1)),                                 # Rescale between 0 and 1\n",
    "        tio.ZNormalization(masking_method=lambda x: x > 1.0*x.mean()) # Z-Normalization: Subtract mean and divide by std\n",
    "    ])\n",
    "    \n",
    "    return valid_transform(img) "
   ]
  },
  {
   "cell_type": "markdown",
   "id": "2e7aedeb-df7f-45a4-9646-97bde2c10c19",
   "metadata": {},
   "source": [
    "#### 1.1.2 Loading Images\n",
    "\n",
    "In this notebook, we'll take *config.SLICE_NUMBER* slices from the middle of each 3D image. Further we'll combine each 3D image of each MRI type into a single 4D image."
   ]
  },
  {
   "cell_type": "code",
   "execution_count": 7,
   "id": "2cec6f51-ff10-46d5-a325-e90acd1e00c0",
   "metadata": {},
   "outputs": [],
   "source": [
    "def dicom_2_image(file, voi_lut=True, fix_monochrome=True):\n",
    "    dicom = pydicom.read_file(file)\n",
    "    # VOI LUT (if available by DICOM device) is used to\n",
    "    # transform raw DICOM data to \"human-friendly\" view\n",
    "    if voi_lut:\n",
    "        img = apply_voi_lut(dicom.pixel_array, dicom)\n",
    "    else:\n",
    "        img = dicom.pixel_array\n",
    "    if fix_monochrome and dicom.PhotometricInterpretation == \"MONOCHROME1\":\n",
    "        img = np.amax(img) - img\n",
    "    \n",
    "    img = img - np.min(img)\n",
    "    img = img / np.max(img)\n",
    "    img = (img * 255).astype(np.uint8)\n",
    "    return img\n",
    "\n",
    "def remove_black_boundaries(imgs):\n",
    "    min=np.array(np.nonzero(imgs)).min(axis=1)\n",
    "    max=np.array(np.nonzero(imgs)).max(axis=1)\n",
    "    return imgs[min[0]:max[0],min[1]:max[1],min[2]:max[2]]\n",
    "\n",
    "def get_middle_idxs(mri_type):\n",
    "    # Take SLICE_NUMBER slices from the middle\n",
    "    threshold = config.SLICE_NUMBER // 2\n",
    "    minimum_idx = len(mri_type)//2 - threshold if (len(mri_type)//2 - threshold) > 0 else 0\n",
    "    maximum_idx = len(mri_type)//2 + threshold  # maximum can exceed the index\n",
    "    step = 1\n",
    "    if config.VERBOSE:\n",
    "        print(f\"Minimum {minimum_idx}\")\n",
    "        print(f\"Maximum {maximum_idx}\")\n",
    "    return minimum_idx, maximum_idx, step\n",
    "\n",
    "def get_xth_idxs(img_depth):\n",
    "    minimum_idx = 0\n",
    "    maximum_idx = img_depth\n",
    "    step = 1\n",
    "    if config.SLICE_NUMBER < img_depth:\n",
    "        mod = img_depth % config.SLICE_NUMBER\n",
    "        threshold = int(mod // 2)\n",
    "        minimum_idx = threshold\n",
    "        maximum_idx = img_depth - threshold\n",
    "        step = img_depth // config.SLICE_NUMBER\n",
    "    if config.VERBOSE:\n",
    "        print(f\"Minimum {minimum_idx}\")\n",
    "        print(f\"Maximum {maximum_idx}\")\n",
    "        print(f\"Step size: {step}\")\n",
    "    return minimum_idx, maximum_idx, step\n",
    "\n",
    "def get_3d_image(mri_type, aug, dicom):\n",
    "    # Calculate the indices of the 2D images which should be considered for the 3D image\n",
    "    img_depth = len(mri_type)\n",
    "    if img_depth <= config.SLICE_NUMBER:\n",
    "        minimum_idx, maximum_idx, step = get_middle_idxs(mri_type)\n",
    "    elif img_depth <= config.SLICE_NUMBER*2:\n",
    "        minimum_idx, maximum_idx, step = get_middle_idxs(mri_type)\n",
    "    else:\n",
    "        minimum_idx, maximum_idx, step = get_xth_idxs(img_depth)\n",
    "    \n",
    "    # Create list which contains all the 2D images which form the 3D image\n",
    "    mri_img = []\n",
    "    counter = 0\n",
    "    for i in range(minimum_idx, maximum_idx, step):\n",
    "        if i >= len(mri_type):\n",
    "            break\n",
    "        file = mri_type[i]\n",
    "        if dicom:\n",
    "            img = dicom_2_image(file)\n",
    "        else:\n",
    "            img = cv2.imread(file, cv2.IMREAD_GRAYSCALE)\n",
    "        mri_img.append(img)\n",
    "        counter += 1\n",
    "        if counter == config.SLICE_NUMBER:\n",
    "            break\n",
    "    mri_img = np.array(mri_img)\n",
    "    \n",
    "    # Remove black boundaries\n",
    "    if config.REMOVE_BLACK_BOUNDARIES:\n",
    "        mri_img = remove_black_boundaries(mri_img)\n",
    "    \n",
    "    # Reshape\n",
    "    mri_img = np.rollaxis(np.array(mri_img), 0, 3)  # From depthxwidthxheight to widthxheightxdepth\n",
    "    mri_img = np.expand_dims(mri_img, axis=0)  # Expand to 1xwidthxheightxdepth\n",
    "    \n",
    "    # Augmentation\n",
    "    downsampling_width = mri_img.shape[1] / config.SIZE\n",
    "    downsampling_height = mri_img.shape[2] / config.SIZE\n",
    "    downsampling_depth = mri_img.shape[3] / config.SLICE_NUMBER\n",
    "    if aug:\n",
    "        mri_img = train_augmentation(mri_img, downsampling_width, downsampling_height, downsampling_depth)\n",
    "    else:\n",
    "        mri_img = valid_augmentation(mri_img, downsampling_width, downsampling_height, downsampling_depth)\n",
    "    \n",
    "    # If less than SLICE_NUMBER slices, add SLICE_NUMBER - mri_img.shape[-1] slices with only zero values\n",
    "    if mri_img.shape[-1] < config.SLICE_NUMBER:\n",
    "        if config.VERBOSE:\n",
    "            print(f\"Current slices: {mri_img.shape[-1]}\")\n",
    "        n_zero = config.SLICE_NUMBER - mri_img.shape[-1]\n",
    "        mri_img = np.concatenate((mri_img, np.zeros((config.RRC_SIZE, config.RRC_SIZE, n_zero)).astype(np.uint8)), axis = -1)\n",
    "        \n",
    "    # Normalization (and turn into float64))\n",
    "    #mri_img = (mri_img - np.mean(mri_img, axis=(0,1)))/np.std(mri_img, axis=(0,1))\n",
    "    return mri_img\n",
    "    \n",
    "def load_images(scan_id, aug=True, split=\"train\", dicom=False):\n",
    "    file_ext = \"png\"\n",
    "    if dicom:\n",
    "        file_ext = \"dcm\"\n",
    "    # Ascending sort\n",
    "    flair = sorted(glob.glob(f\"{PATH}/{split}/{scan_id}/FLAIR/*.{file_ext}\"), key=lambda f: int(re.sub('\\D', '', f)))\n",
    "    t1w = sorted(glob.glob(f\"{PATH}/{split}/{scan_id}/T1w/*.{file_ext}\"), key=lambda f: int(re.sub('\\D', '', f)))\n",
    "    t1wce = sorted(glob.glob(f\"{PATH}/{split}/{scan_id}/T1wCE/*.{file_ext}\"), key=lambda f: int(re.sub('\\D', '', f)))\n",
    "    t2w = sorted(glob.glob(f\"{PATH}/{split}/{scan_id}/T2w/*.{file_ext}\"), key=lambda f: int(re.sub('\\D', '', f)))\n",
    "    \n",
    "    if config.VERBOSE:\n",
    "        print(f\"Scan id {scan_id}\")\n",
    "    flair_img = get_3d_image(flair, aug, dicom)\n",
    "    t1w_img = get_3d_image(t1w, aug, dicom)\n",
    "    t1wce_img = get_3d_image(t1wce, aug, dicom)\n",
    "    t2w_img = get_3d_image(t2w, aug, dicom)\n",
    "    \n",
    "    img = np.concatenate((flair_img, t1w_img, t1wce_img, t2w_img), axis=0)\n",
    "    \n",
    "    # Return 4D image: ChannelsxWidthxHeightxDepth\n",
    "    return img"
   ]
  },
  {
   "cell_type": "markdown",
   "id": "7a2a29f7-6588-4f19-8bef-f246a3dace77",
   "metadata": {},
   "source": [
    "#### 1.1.3 Example"
   ]
  },
  {
   "cell_type": "code",
   "execution_count": 8,
   "id": "ac668a6d-0146-4cc9-a7be-3f865e92f797",
   "metadata": {},
   "outputs": [
    {
     "data": {
      "image/png": "[encoded data removed]",
      "text/plain": [
       "<Figure size 1080x1080 with 8 Axes>"
      ]
     },
     "metadata": {},
     "output_type": "display_data"
    }
   ],
   "source": [
    "figure, axes = plt.subplots(2,4, figsize=(15,15))\n",
    "\n",
    "slices_aug_1 = load_images(\"00002\", aug=True)[0,:,:,0]\n",
    "slices_no_aug_1 = load_images(\"00002\", aug=False)[0,:,:,0]\n",
    "\n",
    "slices_aug_2 = load_images(\"00011\", aug=True)[0,:,:,0]\n",
    "slices_no_aug_2 = load_images(\"00011\", aug=False)[0,:,:,0]\n",
    "\n",
    "slices_aug_3 = load_images(\"00028\", aug=True)[0,:,:,0]\n",
    "slices_no_aug_3 = load_images(\"00028\", aug=False)[0,:,:,0]\n",
    "\n",
    "slices_aug_4 = load_images(\"00035\", aug=True)[0,:,:,10]\n",
    "slices_no_aug_4 = load_images(\"00035\", aug=False)[0,:,:,10]\n",
    "\n",
    "im = axes[0,0].imshow(slices_aug_1, cmap=\"gray\")\n",
    "im = axes[0,1].imshow(slices_aug_2, cmap=\"gray\")\n",
    "im = axes[0,2].imshow(slices_aug_3, cmap=\"gray\")\n",
    "im = axes[0,3].imshow(slices_aug_4, cmap=\"gray\")\n",
    "\n",
    "for ax in axes[0]:\n",
    "    ax.set_xticks([])\n",
    "    ax.set_yticks([])\n",
    "    \n",
    "im = axes[1,0].imshow(slices_no_aug_1, cmap=\"gray\")\n",
    "im = axes[1,1].imshow(slices_no_aug_2, cmap=\"gray\")\n",
    "im = axes[1,2].imshow(slices_no_aug_3, cmap=\"gray\")\n",
    "im = axes[1,3].imshow(slices_no_aug_4, cmap=\"gray\")\n",
    "\n",
    "for ax in axes[1]:\n",
    "    ax.set_xticks([])\n",
    "    ax.set_yticks([])\n",
    "\n",
    "figure.tight_layout()\n",
    "plt.show()"
   ]
  },
  {
   "cell_type": "markdown",
   "id": "e375fe33-206e-47fa-87ee-39e5c68ac346",
   "metadata": {},
   "source": [
    "### 1.2 Dataset and Dataloader"
   ]
  },
  {
   "cell_type": "code",
   "execution_count": 9,
   "id": "3cbb7ff2-5003-494b-8351-a3a4ba179ae6",
   "metadata": {},
   "outputs": [],
   "source": [
    "# Load ids and labels\n",
    "df = pd.read_csv(\"../train_labels.csv\")"
   ]
  },
  {
   "cell_type": "code",
   "execution_count": 10,
   "id": "41a8946b-17a0-4e2a-96f3-41937553e399",
   "metadata": {},
   "outputs": [],
   "source": [
    "class RSNADataset(Dataset):\n",
    "    def __init__(self, ids, labels, split = \"train\", dicom=False):\n",
    "        self.ids = ids\n",
    "        self.labels = labels\n",
    "        self.split = split\n",
    "        self.dicom = dicom\n",
    "        \n",
    "        remove_ids = [709, 109, 123]\n",
    "        self.ids = [id_ for id_ in self.ids if id_ not in remove_ids]  \n",
    "    \n",
    "    def __len__(self):\n",
    "        return len(self.ids)\n",
    "    \n",
    "    def __getitem__(self, idx):\n",
    "        patient_id = self.ids[idx]\n",
    "        patient_id = str(patient_id).zfill(5)\n",
    "        if self.split == \"train\":\n",
    "            imgs = load_images(patient_id, aug=True, dicom=self.dicom)\n",
    "        elif self.split == \"valid\":\n",
    "            imgs = load_images(patient_id, aug=False, dicom=self.dicom)\n",
    "        else:\n",
    "            imgs = load_images(patient_id, aug=False, split=self.split, dicom=self.dicom)\n",
    "\n",
    "        if self.split != \"test\":\n",
    "            return torch.tensor(imgs, dtype = torch.float32), torch.tensor(self.labels[idx], dtype = torch.long)\n",
    "        else:\n",
    "            return torch.tensor(imgs, dtype = torch.float32), torch.tensor(self.ids[idx], dtype = torch.float32)"
   ]
  },
  {
   "cell_type": "markdown",
   "id": "49cd7879-f56f-4241-b841-9ee3e85d46c2",
   "metadata": {},
   "source": [
    "### 1.3 Model"
   ]
  },
  {
   "cell_type": "code",
   "execution_count": 11,
   "id": "6dce196b-67eb-401d-a415-f8a56eb0f42e",
   "metadata": {},
   "outputs": [],
   "source": [
    "def conv3x3x3(in_planes, out_planes, stride=1):\n",
    "    return nn.Conv3d(in_planes, out_planes, kernel_size=3, stride=stride, padding=1, bias=False)\n",
    "\n",
    "\n",
    "def conv1x1x1(in_planes, out_planes, stride=1):\n",
    "    return nn.Conv3d(in_planes, out_planes, kernel_size=1, stride=stride, bias=False)\n",
    "\n",
    "\n",
    "class BasicBlock(nn.Module):\n",
    "    expansion = 1\n",
    "\n",
    "    def __init__(self, in_planes, planes, stride=1, downsample=None):\n",
    "        super().__init__()\n",
    "\n",
    "        self.conv1 = conv3x3x3(in_planes, planes, stride)\n",
    "        self.bn1 = nn.BatchNorm3d(planes)\n",
    "        self.relu = nn.ReLU(inplace=True)\n",
    "        self.conv2 = conv3x3x3(planes, planes)\n",
    "        self.bn2 = nn.BatchNorm3d(planes)\n",
    "        self.downsample = downsample\n",
    "        self.stride = stride\n",
    "\n",
    "    def forward(self, x):\n",
    "        residual = x\n",
    "\n",
    "        out = self.conv1(x)\n",
    "        out = self.bn1(out)\n",
    "        out = self.relu(out)\n",
    "\n",
    "        out = self.conv2(out)\n",
    "        out = self.bn2(out)\n",
    "\n",
    "        if self.downsample is not None:\n",
    "            residual = self.downsample(x)\n",
    "\n",
    "        out += residual\n",
    "        out = self.relu(out)\n",
    "\n",
    "        return out\n",
    "    \n",
    "class Bottleneck(nn.Module):\n",
    "    expansion = 4\n",
    "\n",
    "    def __init__(self, in_planes, planes, stride=1, downsample=None):\n",
    "        super().__init__()\n",
    "\n",
    "        self.conv1 = conv1x1x1(in_planes, planes)\n",
    "        self.bn1 = nn.BatchNorm3d(planes)\n",
    "        self.conv2 = conv3x3x3(planes, planes, stride)\n",
    "        self.bn2 = nn.BatchNorm3d(planes)\n",
    "        self.conv3 = conv1x1x1(planes, planes * self.expansion)\n",
    "        self.bn3 = nn.BatchNorm3d(planes * self.expansion)\n",
    "        self.relu = nn.ReLU(inplace=True)\n",
    "        self.downsample = downsample\n",
    "        self.stride = stride\n",
    "\n",
    "    def forward(self, x):\n",
    "        residual = x\n",
    "\n",
    "        out = self.conv1(x)\n",
    "        out = self.bn1(out)\n",
    "        out = self.relu(out)\n",
    "\n",
    "        out = self.conv2(out)\n",
    "        out = self.bn2(out)\n",
    "        out = self.relu(out)\n",
    "\n",
    "        out = self.conv3(out)\n",
    "        out = self.bn3(out)\n",
    "\n",
    "        if self.downsample is not None:\n",
    "            residual = self.downsample(x)\n",
    "\n",
    "        out += residual\n",
    "        out = self.relu(out)\n",
    "\n",
    "        return out\n",
    "\n",
    "\n",
    "class ResNet(nn.Module):\n",
    "\n",
    "    def __init__(self, block, layers, block_inplanes, n_input_channels=4, conv1_t_size=7, conv1_t_stride=1, no_max_pool=False,\n",
    "                 shortcut_type='B', widen_factor=1.0, n_classes=2):\n",
    "        super().__init__()\n",
    "        \n",
    "        # For wider ResNets only\n",
    "        block_inplanes = [int(x * widen_factor) for x in block_inplanes]\n",
    "\n",
    "        self.in_planes = block_inplanes[0]  # 64\n",
    "        self.no_max_pool = no_max_pool\n",
    "\n",
    "        # First Block: Convolutional Layer + Batch Normalization + ReLu + Max Pooling\n",
    "        self.conv1 = nn.Conv3d(n_input_channels, self.in_planes, kernel_size=(conv1_t_size, 7, 7), stride=(conv1_t_stride, 2, 2),\n",
    "                               padding=(conv1_t_size // 2, 3, 3), bias=False)\n",
    "        self.bn1 = nn.BatchNorm3d(self.in_planes)\n",
    "        self.relu = nn.ReLU(inplace=True)\n",
    "        self.maxpool = nn.MaxPool3d(kernel_size=3, stride=2, padding=1)\n",
    "        # Example ResNet18: Each layer consists of two residual blocks and two residual connections\n",
    "        self.layer1 = self._make_layer(block, block_inplanes[0], layers[0], shortcut_type)\n",
    "        self.layer2 = self._make_layer(block, block_inplanes[1], layers[1], shortcut_type, stride=2)\n",
    "        self.layer3 = self._make_layer(block, block_inplanes[2], layers[2], shortcut_type, stride=2)\n",
    "        self.layer4 = self._make_layer(block, block_inplanes[3], layers[3], shortcut_type, stride=2)\n",
    "\n",
    "        self.avgpool = nn.AdaptiveAvgPool3d((1, 1, 1))\n",
    "        self.fc = nn.Linear(block_inplanes[3] * block.expansion, n_classes)\n",
    "\n",
    "        # Initialization\n",
    "        for m in self.modules():\n",
    "            # He initialization\n",
    "            if isinstance(m, nn.Conv3d):\n",
    "                nn.init.kaiming_normal_(m.weight, mode='fan_out', nonlinearity='relu')\n",
    "            elif isinstance(m, nn.BatchNorm3d):\n",
    "                nn.init.constant_(m.weight, 1)\n",
    "                nn.init.constant_(m.bias, 0)\n",
    "\n",
    "    def _downsample_basic_block(self, x, planes, stride):\n",
    "        out = F.avg_pool3d(x, kernel_size=1, stride=stride)\n",
    "        zero_pads = torch.zeros(out.size(0), planes - out.size(1), out.size(2), out.size(3), out.size(4))\n",
    "        if isinstance(out.data, torch.cuda.FloatTensor):\n",
    "            zero_pads = zero_pads.cuda()\n",
    "\n",
    "        out = torch.cat([out.data, zero_pads], dim=1)\n",
    "\n",
    "        return out\n",
    "\n",
    "    def _make_layer(self, block, planes, blocks, shortcut_type, stride=1):\n",
    "        downsample = None\n",
    "        if stride != 1 or self.in_planes != planes * block.expansion:\n",
    "            if shortcut_type == 'A':\n",
    "                downsample = partial(self._downsample_basic_block, planes=planes * block.expansion, stride=stride)\n",
    "            else:\n",
    "                downsample = nn.Sequential(conv1x1x1(self.in_planes, planes * block.expansion, stride), \n",
    "                                           nn.BatchNorm3d(planes * block.expansion))\n",
    "\n",
    "        layers = []\n",
    "        layers.append(block(in_planes=self.in_planes, planes=planes, stride=stride, downsample=downsample))\n",
    "        self.in_planes = planes * block.expansion\n",
    "        for i in range(1, blocks):\n",
    "            layers.append(block(self.in_planes, planes))\n",
    "\n",
    "        return nn.Sequential(*layers)\n",
    "\n",
    "    def forward(self, x):\n",
    "        x = self.conv1(x)\n",
    "        x = self.bn1(x)\n",
    "        x = self.relu(x)\n",
    "        if not self.no_max_pool:\n",
    "            x = self.maxpool(x)\n",
    "\n",
    "        x = self.layer1(x)\n",
    "        x = self.layer2(x)\n",
    "        x = self.layer3(x)\n",
    "        x = self.layer4(x)\n",
    "\n",
    "        x = self.avgpool(x)\n",
    "\n",
    "        x = x.view(x.size(0), -1)\n",
    "        x = self.fc(x)\n",
    "\n",
    "        return x"
   ]
  },
  {
   "cell_type": "code",
   "execution_count": 12,
   "id": "62aff47e-0fc7-460a-bedc-29f72966b355",
   "metadata": {},
   "outputs": [],
   "source": [
    "# ResNet18\n",
    "model = ResNet(BasicBlock, [2, 2, 2, 2], [64, 128, 256, 512])\n",
    "# ResNet34\n",
    "#model = ResNet(BasicBlock, [3, 4, 6, 3], [64, 128, 256, 512])\n",
    "# ResNet50\n",
    "#model = ResNet(Bottleneck, [3, 4, 6, 3], [64, 128, 256, 512])\n",
    "# ResNet101\n",
    "#model = ResNet(Bottleneck, [3, 4, 23, 3], [64, 128, 256, 512])"
   ]
  },
  {
   "cell_type": "markdown",
   "id": "27df09a3-54f9-4f8b-a083-122a50d8f565",
   "metadata": {},
   "source": [
    "### 1.4 Training"
   ]
  },
  {
   "cell_type": "code",
   "execution_count": 13,
   "id": "7baecc1e-f75a-45f8-99a8-2541fe728813",
   "metadata": {},
   "outputs": [],
   "source": [
    "def training(net, n_epochs, optimizer, loss_function, scheduler, train_dl, valid_dl, current_fold):\n",
    "    wandb.watch(net, loss_function, log='gradients', log_freq=10)\n",
    "    \n",
    "    best_loss = np.inf\n",
    "    best_roc = 0\n",
    "\n",
    "    # Iterate over the dataset n_epochs times\n",
    "    for epoch in range(n_epochs):\n",
    "        net.train()  # net.train() will notify all your layers that you are in training mode\n",
    "\n",
    "        train_loss = 0  # Training loss in epoch\n",
    "        y_train_list = []\n",
    "        y_hat_train_list = []\n",
    "        roc_train = 0.0\n",
    "\n",
    "        # For each batch, pass the training examples, calculate loss and gradients and optimize the parameters\n",
    "        for xb, yb in tqdm(train_dl, desc=\"Training\"):\n",
    "            optimizer.zero_grad()  # zero_grad clears old gradients from the last step\n",
    "\n",
    "            xb = xb.to(device)\n",
    "            yb = yb.to(device)\n",
    "\n",
    "            y_hat = net(xb)  # Forward pass\n",
    "            loss = loss_function(y_hat, yb)  # Calculate Loss\n",
    "\n",
    "            loss.backward()  # Calculate the gradients (using backpropagation)\n",
    "            optimizer.step()  # # Optimize the parameters: opt.step() causes the optimizer to take a step based on the gradients of the parameters.\n",
    "\n",
    "            train_loss += loss.item()\n",
    "            y_train_list.extend(yb.tolist())\n",
    "            y_hat = F.softmax(y_hat)\n",
    "            y_hat_train_list.extend(y_hat[:,1].tolist())\n",
    "            \n",
    "            if config.SCHEDULER == \"OneCycleLR\":\n",
    "                scheduler.step()\n",
    "                \n",
    "        y_hat_train_list = [1 if x > 0.5 else 0 for x in y_hat_train_list]\n",
    "        roc_train = roc_auc_score(y_train_list, y_hat_train_list)\n",
    "        \n",
    "        train_loss = train_loss/len(train_dl)\n",
    "                \n",
    "        wandb.log({\"epoch\": epoch, \"train_loss\": train_loss, \"train_roc\": roc_train})\n",
    "\n",
    "        valid_loss = 0  # Validation loss in epoch\n",
    "        y_valid_list = []\n",
    "        y_hat_valid_list = []\n",
    "        roc_valid = 0.0\n",
    "\n",
    "        net.eval()  # net.eval() will notify all your layers that you are in evaluation mode\n",
    "        with torch.no_grad():\n",
    "            # Perform a prediction on the validation set  \n",
    "            for xb_valid, yb_valid in tqdm(valid_dl, desc=\"Validation\"):\n",
    "                xb_valid = xb_valid.to(device)\n",
    "                yb_valid = yb_valid.to(device)\n",
    "\n",
    "                y_hat = net(xb_valid)  # Forward pass\n",
    "                loss = loss_function(y_hat, yb_valid)  # Calculate Loss\n",
    "\n",
    "                valid_loss += loss.item()\n",
    "                y_valid_list.extend(yb_valid.tolist())\n",
    "                y_hat = F.softmax(y_hat)\n",
    "                y_hat_valid_list.extend(y_hat[:,1].tolist())\n",
    "\n",
    "        y_hat_valid_list = [1 if x > 0.5 else 0 for x in y_hat_valid_list]\n",
    "        roc_valid = roc_auc_score(y_valid_list, y_hat_valid_list)\n",
    "        \n",
    "        valid_loss = valid_loss/len(valid_dl)\n",
    "        \n",
    "        if config.SCHEDULER == \"ReduceLROnPlateau\":\n",
    "            scheduler.step(valid_loss)\n",
    "\n",
    "        wandb.log({\"epoch\": epoch, \"valid_loss\": valid_loss, \"valid_roc\": roc_valid})\n",
    "        \n",
    "        if best_loss > valid_loss:\n",
    "            best_loss = valid_loss\n",
    "            best_roc = roc_valid\n",
    "            wandb.run.summary[\"best_loss\"] = best_loss\n",
    "            wandb.run.summary[\"best_roc\"] = roc_valid\n",
    "            torch.save(net.state_dict(), f'../models/{config.MODELNAME}-fold-{current_fold}-loss-{round(valid_loss, 3)}.pt')\n",
    "            \n",
    "    return best_loss, best_roc"
   ]
  },
  {
   "cell_type": "code",
   "execution_count": 14,
   "id": "749e8f68-d129-4924-a6a1-141bf929a5a7",
   "metadata": {},
   "outputs": [],
   "source": [
    "# Create Loss Function\n",
    "loss_function = nn.CrossEntropyLoss()\n",
    "\n",
    "# Create optimizer\n",
    "if config.OPTIMIZER == \"SGD\":\n",
    "    optimizer = torch.optim.SGD(model.parameters(), lr=config.LEARNING_RATE, momentum=config.MOMENTUM)\n",
    "elif config.OPTIMIZER == \"Adam\":\n",
    "    optimizer = torch.optim.Adam(model.parameters(),lr = config.LEARNING_RATE, weight_decay=config.WEIGHT_DECAY)\n",
    "else:\n",
    "    optimizer = torch.optim.AdamW(model.parameters(),lr = config.LEARNING_RATE, weight_decay=config.WEIGHT_DECAY)\n",
    "    \n",
    "model.to(device)\n",
    "\n",
    "# Scheduler\n",
    "#  The 1cycle policy by fasti: https://sgugger.github.io/the-1cycle-policy.html\n",
    "if config.SCHEDULER == \"OneCycleLR\":\n",
    "    scheduler = lr_scheduler.OneCycleLR(optimizer, max_lr=0.03, steps_per_epoch=steps_per_epoch, epochs=config.N_EPOCHS)\n",
    "else:\n",
    "    scheduler = lr_scheduler.ReduceLROnPlateau(optimizer, 'min', patience=3, factor=0.25)"
   ]
  },
  {
   "cell_type": "code",
   "execution_count": 15,
   "id": "53d10374-1246-4c82-9c70-16b274e5c54c",
   "metadata": {},
   "outputs": [
    {
     "name": "stderr",
     "output_type": "stream",
     "text": [
      "Training: 100%|██████████| 15/15 [09:07<00:00, 36.51s/it]\n",
      "Validation: 100%|██████████| 4/4 [02:14<00:00, 33.56s/it]\n",
      "Training: 100%|██████████| 15/15 [09:28<00:00, 37.90s/it]\n",
      "Validation: 100%|██████████| 4/4 [02:16<00:00, 34.00s/it]\n",
      "Training: 100%|██████████| 15/15 [09:37<00:00, 38.50s/it]\n",
      "Validation: 100%|██████████| 4/4 [02:24<00:00, 36.11s/it]\n",
      "Training: 100%|██████████| 15/15 [09:30<00:00, 38.03s/it]\n",
      "Validation: 100%|██████████| 4/4 [02:20<00:00, 35.23s/it]\n",
      "Training: 100%|██████████| 15/15 [09:29<00:00, 37.96s/it]\n",
      "Validation: 100%|██████████| 4/4 [02:18<00:00, 34.65s/it]\n",
      "Training: 100%|██████████| 15/15 [09:28<00:00, 37.93s/it]\n",
      "Validation: 100%|██████████| 4/4 [02:15<00:00, 33.93s/it]\n",
      "Training: 100%|██████████| 15/15 [09:48<00:00, 39.23s/it]\n",
      "Validation: 100%|██████████| 4/4 [02:16<00:00, 34.14s/it]\n",
      "Training: 100%|██████████| 15/15 [09:36<00:00, 38.41s/it]\n",
      "Validation: 100%|██████████| 4/4 [02:18<00:00, 34.55s/it]\n",
      "Training: 100%|██████████| 15/15 [09:29<00:00, 37.99s/it]\n",
      "Validation: 100%|██████████| 4/4 [02:19<00:00, 34.78s/it]\n",
      "Validation: 100%|██████████| 4/4 [02:22<00:00, 35.56s/it]\n"
     ]
    },
    {
     "data": {
      "text/html": [
       "<br/>Waiting for W&B process to finish, PID 93909<br/>Program ended successfully."
      ],
      "text/plain": [
       "<IPython.core.display.HTML object>"
      ]
     },
     "metadata": {},
     "output_type": "display_data"
    },
    {
     "data": {
      "application/vnd.jupyter.widget-view+json": {
       "model_id": "1e20e70d3998439f994e813cd6f7a5b5",
       "version_major": 2,
       "version_minor": 0
      },
      "text/plain": [
       "VBox(children=(Label(value=' 0.00MB of 0.00MB uploaded (0.00MB deduped)\\r'), FloatProgress(value=1.0, max=1.0)…"
      ]
     },
     "metadata": {},
     "output_type": "display_data"
    },
    {
     "data": {
      "text/html": [
       "Find user logs for this run at: <code>/home/jroessler/jupyterhub/rsna/notebooks/wandb/run-20210824_211317-s0ioc13k/logs/debug.log</code>"
      ],
      "text/plain": [
       "<IPython.core.display.HTML object>"
      ]
     },
     "metadata": {},
     "output_type": "display_data"
    },
    {
     "data": {
      "text/html": [
       "Find internal logs for this run at: <code>/home/jroessler/jupyterhub/rsna/notebooks/wandb/run-20210824_211317-s0ioc13k/logs/debug-internal.log</code>"
      ],
      "text/plain": [
       "<IPython.core.display.HTML object>"
      ]
     },
     "metadata": {},
     "output_type": "display_data"
    },
    {
     "data": {
      "text/html": [
       "<h3>Run summary:</h3><br/><style>\n",
       "    table.wandb td:nth-child(1) { padding: 0 10px; text-align: right }\n",
       "    </style><table class=\"wandb\">\n",
       "<tr><td>epoch</td><td>9</td></tr><tr><td>train_loss</td><td>0.50843</td></tr><tr><td>train_roc</td><td>0.75995</td></tr><tr><td>_runtime</td><td>7113</td></tr><tr><td>_timestamp</td><td>1629846710</td></tr><tr><td>_step</td><td>19</td></tr><tr><td>valid_loss</td><td>0.87547</td></tr><tr><td>valid_roc</td><td>0.58035</td></tr><tr><td>best_loss</td><td>0.76663</td></tr><tr><td>best_roc</td><td>0.57109</td></tr></table>"
      ],
      "text/plain": [
       "<IPython.core.display.HTML object>"
      ]
     },
     "metadata": {},
     "output_type": "display_data"
    },
    {
     "data": {
      "text/html": [
       "<h3>Run history:</h3><br/><style>\n",
       "    table.wandb td:nth-child(1) { padding: 0 10px; text-align: right }\n",
       "    </style><table class=\"wandb\">\n",
       "<tr><td>epoch</td><td>▁▁▂▂▃▃▃▃▄▄▅▅▆▆▆▆▇▇██</td></tr><tr><td>train_loss</td><td>▅▆▆▅▇█▆▄▂▁</td></tr><tr><td>train_roc</td><td>▂▁▂▂▃▁▃▄▇█</td></tr><tr><td>_runtime</td><td>▁▁▂▂▃▃▃▃▄▄▅▅▆▆▆▆▇▇██</td></tr><tr><td>_timestamp</td><td>▁▁▂▂▃▃▃▃▄▄▅▅▆▆▆▆▇▇██</td></tr><tr><td>_step</td><td>▁▁▂▂▂▃▃▄▄▄▅▅▅▆▆▇▇▇██</td></tr><tr><td>valid_loss</td><td>▂▇▄▁▅█▂▁▁▂</td></tr><tr><td>valid_roc</td><td>▁▄▄█▄▄▆▅▂█</td></tr></table><br/>"
      ],
      "text/plain": [
       "<IPython.core.display.HTML object>"
      ]
     },
     "metadata": {},
     "output_type": "display_data"
    },
    {
     "data": {
      "text/html": [
       "Synced 5 W&B file(s), 0 media file(s), 0 artifact file(s) and 0 other file(s)"
      ],
      "text/plain": [
       "<IPython.core.display.HTML object>"
      ]
     },
     "metadata": {},
     "output_type": "display_data"
    },
    {
     "data": {
      "text/html": [
       "\n",
       "                    <br/>Synced <strong style=\"color:#cdcd00\">rare-monkey-37</strong>: <a href=\"https://wandb.ai/uzk-wim/rsna-miccai-k-fold/runs/s0ioc13k\" target=\"_blank\">https://wandb.ai/uzk-wim/rsna-miccai-k-fold/runs/s0ioc13k</a><br/>\n",
       "                "
      ],
      "text/plain": [
       "<IPython.core.display.HTML object>"
      ]
     },
     "metadata": {},
     "output_type": "display_data"
    },
    {
     "name": "stderr",
     "output_type": "stream",
     "text": [
      "\u001b[34m\u001b[1mwandb\u001b[0m: wandb version 0.12.0 is available!  To upgrade, please run:\n",
      "\u001b[34m\u001b[1mwandb\u001b[0m:  $ pip install wandb --upgrade\n"
     ]
    },
    {
     "data": {
      "text/html": [
       "\n",
       "                Tracking run with wandb version 0.11.1<br/>\n",
       "                Syncing run <strong style=\"color:#cdcd00\">distinctive-night-38</strong> to <a href=\"https://wandb.ai\" target=\"_blank\">Weights & Biases</a> <a href=\"https://docs.wandb.com/integrations/jupyter.html\" target=\"_blank\">(Documentation)</a>.<br/>\n",
       "                Project page: <a href=\"https://wandb.ai/uzk-wim/rsna-miccai-k-fold\" target=\"_blank\">https://wandb.ai/uzk-wim/rsna-miccai-k-fold</a><br/>\n",
       "                Run page: <a href=\"https://wandb.ai/uzk-wim/rsna-miccai-k-fold/runs/wx4hqv67\" target=\"_blank\">https://wandb.ai/uzk-wim/rsna-miccai-k-fold/runs/wx4hqv67</a><br/>\n",
       "                Run data is saved locally in <code>/home/jroessler/jupyterhub/rsna/notebooks/wandb/run-20210824_231154-wx4hqv67</code><br/><br/>\n",
       "            "
      ],
      "text/plain": [
       "<IPython.core.display.HTML object>"
      ]
     },
     "metadata": {},
     "output_type": "display_data"
    },
    {
     "name": "stderr",
     "output_type": "stream",
     "text": [
      "Training: 100%|██████████| 15/15 [09:39<00:00, 38.63s/it]\n",
      "Validation: 100%|██████████| 4/4 [02:11<00:00, 32.75s/it]\n",
      "Training: 100%|██████████| 15/15 [09:39<00:00, 38.64s/it]\n",
      "Validation: 100%|██████████| 4/4 [02:13<00:00, 33.26s/it]\n",
      "Validation: 100%|██████████| 4/4 [02:20<00:00, 35.13s/it]\n",
      "Training: 100%|██████████| 15/15 [09:42<00:00, 38.80s/it]\n",
      "Validation: 100%|██████████| 4/4 [02:17<00:00, 34.32s/it]\n",
      "Training: 100%|██████████| 15/15 [09:43<00:00, 38.88s/it]\n",
      "Validation: 100%|██████████| 4/4 [02:18<00:00, 34.70s/it]\n",
      "Training: 100%|██████████| 15/15 [09:41<00:00, 38.77s/it]\n",
      "Validation: 100%|██████████| 4/4 [02:15<00:00, 33.93s/it]\n",
      "Training: 100%|██████████| 15/15 [09:39<00:00, 38.66s/it]\n",
      "Validation: 100%|██████████| 4/4 [02:14<00:00, 33.67s/it]\n",
      "Training: 100%|██████████| 15/15 [09:40<00:00, 38.70s/it]\n",
      "Validation: 100%|██████████| 4/4 [02:15<00:00, 33.79s/it]\n",
      "Training: 100%|██████████| 15/15 [09:35<00:00, 38.37s/it]\n",
      "Validation: 100%|██████████| 4/4 [02:16<00:00, 34.13s/it]\n",
      "Training: 100%|██████████| 15/15 [09:36<00:00, 38.43s/it]\n",
      "Validation: 100%|██████████| 4/4 [02:12<00:00, 33.06s/it]\n"
     ]
    },
    {
     "data": {
      "text/html": [
       "<br/>Waiting for W&B process to finish, PID 85462<br/>Program ended successfully."
      ],
      "text/plain": [
       "<IPython.core.display.HTML object>"
      ]
     },
     "metadata": {},
     "output_type": "display_data"
    },
    {
     "data": {
      "application/vnd.jupyter.widget-view+json": {
       "model_id": "0527811b0dd040ae855c421b0c29cdf2",
       "version_major": 2,
       "version_minor": 0
      },
      "text/plain": [
       "VBox(children=(Label(value=' 0.00MB of 0.00MB uploaded (0.00MB deduped)\\r'), FloatProgress(value=1.0, max=1.0)…"
      ]
     },
     "metadata": {},
     "output_type": "display_data"
    },
    {
     "data": {
      "text/html": [
       "Find user logs for this run at: <code>/home/jroessler/jupyterhub/rsna/notebooks/wandb/run-20210824_231154-wx4hqv67/logs/debug.log</code>"
      ],
      "text/plain": [
       "<IPython.core.display.HTML object>"
      ]
     },
     "metadata": {},
     "output_type": "display_data"
    },
    {
     "data": {
      "text/html": [
       "Find internal logs for this run at: <code>/home/jroessler/jupyterhub/rsna/notebooks/wandb/run-20210824_231154-wx4hqv67/logs/debug-internal.log</code>"
      ],
      "text/plain": [
       "<IPython.core.display.HTML object>"
      ]
     },
     "metadata": {},
     "output_type": "display_data"
    },
    {
     "data": {
      "text/html": [
       "<h3>Run summary:</h3><br/><style>\n",
       "    table.wandb td:nth-child(1) { padding: 0 10px; text-align: right }\n",
       "    </style><table class=\"wandb\">\n",
       "<tr><td>epoch</td><td>9</td></tr><tr><td>train_loss</td><td>0.1656</td></tr><tr><td>train_roc</td><td>0.96557</td></tr><tr><td>_runtime</td><td>7153</td></tr><tr><td>_timestamp</td><td>1629853867</td></tr><tr><td>_step</td><td>19</td></tr><tr><td>valid_loss</td><td>1.09159</td></tr><tr><td>valid_roc</td><td>0.59702</td></tr><tr><td>best_loss</td><td>0.7326</td></tr><tr><td>best_roc</td><td>0.57124</td></tr></table>"
      ],
      "text/plain": [
       "<IPython.core.display.HTML object>"
      ]
     },
     "metadata": {},
     "output_type": "display_data"
    },
    {
     "data": {
      "text/html": [
       "<h3>Run history:</h3><br/><style>\n",
       "    table.wandb td:nth-child(1) { padding: 0 10px; text-align: right }\n",
       "    </style><table class=\"wandb\">\n",
       "<tr><td>epoch</td><td>▁▁▂▂▃▃▃▃▄▄▅▅▆▆▆▆▇▇██</td></tr><tr><td>train_loss</td><td>█▇▆▅▅▃▃▂▁▁</td></tr><tr><td>train_roc</td><td>▁▁▂▄▅▆▇▇██</td></tr><tr><td>_runtime</td><td>▁▁▂▂▃▃▃▃▄▄▅▅▆▆▆▆▇▇██</td></tr><tr><td>_timestamp</td><td>▁▁▂▂▃▃▃▃▄▄▅▅▆▆▆▆▇▇██</td></tr><tr><td>_step</td><td>▁▁▂▂▂▃▃▄▄▄▅▅▅▆▆▇▇▇██</td></tr><tr><td>valid_loss</td><td>▁▁▂▂▄▅▅▆██</td></tr><tr><td>valid_roc</td><td>▅▄▅▅▅▃▆▁▇█</td></tr></table><br/>"
      ],
      "text/plain": [
       "<IPython.core.display.HTML object>"
      ]
     },
     "metadata": {},
     "output_type": "display_data"
    },
    {
     "data": {
      "text/html": [
       "Synced 5 W&B file(s), 0 media file(s), 0 artifact file(s) and 0 other file(s)"
      ],
      "text/plain": [
       "<IPython.core.display.HTML object>"
      ]
     },
     "metadata": {},
     "output_type": "display_data"
    },
    {
     "data": {
      "text/html": [
       "\n",
       "                    <br/>Synced <strong style=\"color:#cdcd00\">distinctive-night-38</strong>: <a href=\"https://wandb.ai/uzk-wim/rsna-miccai-k-fold/runs/wx4hqv67\" target=\"_blank\">https://wandb.ai/uzk-wim/rsna-miccai-k-fold/runs/wx4hqv67</a><br/>\n",
       "                "
      ],
      "text/plain": [
       "<IPython.core.display.HTML object>"
      ]
     },
     "metadata": {},
     "output_type": "display_data"
    },
    {
     "name": "stderr",
     "output_type": "stream",
     "text": [
      "\u001b[34m\u001b[1mwandb\u001b[0m: wandb version 0.12.0 is available!  To upgrade, please run:\n",
      "\u001b[34m\u001b[1mwandb\u001b[0m:  $ pip install wandb --upgrade\n"
     ]
    },
    {
     "data": {
      "text/html": [
       "\n",
       "                Tracking run with wandb version 0.11.1<br/>\n",
       "                Syncing run <strong style=\"color:#cdcd00\">chocolate-sound-39</strong> to <a href=\"https://wandb.ai\" target=\"_blank\">Weights & Biases</a> <a href=\"https://docs.wandb.com/integrations/jupyter.html\" target=\"_blank\">(Documentation)</a>.<br/>\n",
       "                Project page: <a href=\"https://wandb.ai/uzk-wim/rsna-miccai-k-fold\" target=\"_blank\">https://wandb.ai/uzk-wim/rsna-miccai-k-fold</a><br/>\n",
       "                Run page: <a href=\"https://wandb.ai/uzk-wim/rsna-miccai-k-fold/runs/1jd09ket\" target=\"_blank\">https://wandb.ai/uzk-wim/rsna-miccai-k-fold/runs/1jd09ket</a><br/>\n",
       "                Run data is saved locally in <code>/home/jroessler/jupyterhub/rsna/notebooks/wandb/run-20210825_011112-1jd09ket</code><br/><br/>\n",
       "            "
      ],
      "text/plain": [
       "<IPython.core.display.HTML object>"
      ]
     },
     "metadata": {},
     "output_type": "display_data"
    },
    {
     "name": "stderr",
     "output_type": "stream",
     "text": [
      "Training: 100%|██████████| 15/15 [09:30<00:00, 38.03s/it]\n",
      "Validation: 100%|██████████| 4/4 [02:18<00:00, 34.57s/it]\n",
      "Training: 100%|██████████| 15/15 [09:36<00:00, 38.46s/it]\n",
      "Validation: 100%|██████████| 4/4 [02:18<00:00, 34.61s/it]\n",
      "Training: 100%|██████████| 15/15 [09:35<00:00, 38.39s/it]\n",
      "Validation: 100%|██████████| 4/4 [02:15<00:00, 33.89s/it]\n",
      "Training: 100%|██████████| 15/15 [09:33<00:00, 38.24s/it]\n",
      "Validation: 100%|██████████| 4/4 [02:14<00:00, 33.66s/it]\n",
      "Training: 100%|██████████| 15/15 [09:41<00:00, 38.80s/it]\n",
      "Validation: 100%|██████████| 4/4 [02:16<00:00, 34.09s/it]\n",
      "Training: 100%|██████████| 15/15 [09:39<00:00, 38.63s/it]\n",
      "Validation: 100%|██████████| 4/4 [02:14<00:00, 33.64s/it]\n",
      "Training: 100%|██████████| 15/15 [09:30<00:00, 38.05s/it]\n",
      "Validation: 100%|██████████| 4/4 [02:15<00:00, 33.95s/it]\n",
      "Training: 100%|██████████| 15/15 [09:42<00:00, 38.83s/it]\n",
      "Validation: 100%|██████████| 4/4 [02:19<00:00, 34.80s/it]\n",
      "Training: 100%|██████████| 15/15 [09:39<00:00, 38.64s/it]\n",
      "Validation: 100%|██████████| 4/4 [02:16<00:00, 34.01s/it]\n",
      "Training: 100%|██████████| 15/15 [09:34<00:00, 38.31s/it]\n",
      "Validation: 100%|██████████| 4/4 [02:09<00:00, 32.34s/it]\n"
     ]
    },
    {
     "data": {
      "text/html": [
       "<br/>Waiting for W&B process to finish, PID 77070<br/>Program ended successfully."
      ],
      "text/plain": [
       "<IPython.core.display.HTML object>"
      ]
     },
     "metadata": {},
     "output_type": "display_data"
    },
    {
     "data": {
      "application/vnd.jupyter.widget-view+json": {
       "model_id": "b51aca8ed4c54a1a916f874b23321f48",
       "version_major": 2,
       "version_minor": 0
      },
      "text/plain": [
       "VBox(children=(Label(value=' 0.00MB of 0.00MB uploaded (0.00MB deduped)\\r'), FloatProgress(value=1.0, max=1.0)…"
      ]
     },
     "metadata": {},
     "output_type": "display_data"
    },
    {
     "data": {
      "text/html": [
       "Find user logs for this run at: <code>/home/jroessler/jupyterhub/rsna/notebooks/wandb/run-20210825_011112-1jd09ket/logs/debug.log</code>"
      ],
      "text/plain": [
       "<IPython.core.display.HTML object>"
      ]
     },
     "metadata": {},
     "output_type": "display_data"
    },
    {
     "data": {
      "text/html": [
       "Find internal logs for this run at: <code>/home/jroessler/jupyterhub/rsna/notebooks/wandb/run-20210825_011112-1jd09ket/logs/debug-internal.log</code>"
      ],
      "text/plain": [
       "<IPython.core.display.HTML object>"
      ]
     },
     "metadata": {},
     "output_type": "display_data"
    },
    {
     "data": {
      "text/html": [
       "<h3>Run summary:</h3><br/><style>\n",
       "    table.wandb td:nth-child(1) { padding: 0 10px; text-align: right }\n",
       "    </style><table class=\"wandb\">\n",
       "<tr><td>epoch</td><td>9</td></tr><tr><td>train_loss</td><td>0.55309</td></tr><tr><td>train_roc</td><td>0.72518</td></tr><tr><td>_runtime</td><td>7127</td></tr><tr><td>_timestamp</td><td>1629860999</td></tr><tr><td>_step</td><td>19</td></tr><tr><td>valid_loss</td><td>0.9038</td></tr><tr><td>valid_roc</td><td>0.63696</td></tr><tr><td>best_loss</td><td>0.90197</td></tr><tr><td>best_roc</td><td>0.63696</td></tr></table>"
      ],
      "text/plain": [
       "<IPython.core.display.HTML object>"
      ]
     },
     "metadata": {},
     "output_type": "display_data"
    },
    {
     "data": {
      "text/html": [
       "<h3>Run history:</h3><br/><style>\n",
       "    table.wandb td:nth-child(1) { padding: 0 10px; text-align: right }\n",
       "    </style><table class=\"wandb\">\n",
       "<tr><td>epoch</td><td>▁▁▂▂▃▃▃▃▄▄▅▅▆▆▆▆▇▇██</td></tr><tr><td>train_loss</td><td>█▅▃▂▁▁▁▁▁▁</td></tr><tr><td>train_roc</td><td>▁▃▅▆▆▆▇██▇</td></tr><tr><td>_runtime</td><td>▁▁▂▂▃▃▃▃▄▄▅▅▆▆▆▆▇▇██</td></tr><tr><td>_timestamp</td><td>▁▁▂▂▃▃▃▃▄▄▅▅▆▆▆▆▇▇██</td></tr><tr><td>_step</td><td>▁▁▂▂▂▃▃▄▄▄▅▅▅▆▆▇▇▇██</td></tr><tr><td>valid_loss</td><td>█▆▃▂▂▂▁▁▁▁</td></tr><tr><td>valid_roc</td><td>█▁▃▇▆▇▆▆▆▆</td></tr></table><br/>"
      ],
      "text/plain": [
       "<IPython.core.display.HTML object>"
      ]
     },
     "metadata": {},
     "output_type": "display_data"
    },
    {
     "data": {
      "text/html": [
       "Synced 5 W&B file(s), 0 media file(s), 0 artifact file(s) and 0 other file(s)"
      ],
      "text/plain": [
       "<IPython.core.display.HTML object>"
      ]
     },
     "metadata": {},
     "output_type": "display_data"
    },
    {
     "data": {
      "text/html": [
       "\n",
       "                    <br/>Synced <strong style=\"color:#cdcd00\">chocolate-sound-39</strong>: <a href=\"https://wandb.ai/uzk-wim/rsna-miccai-k-fold/runs/1jd09ket\" target=\"_blank\">https://wandb.ai/uzk-wim/rsna-miccai-k-fold/runs/1jd09ket</a><br/>\n",
       "                "
      ],
      "text/plain": [
       "<IPython.core.display.HTML object>"
      ]
     },
     "metadata": {},
     "output_type": "display_data"
    },
    {
     "name": "stderr",
     "output_type": "stream",
     "text": [
      "\u001b[34m\u001b[1mwandb\u001b[0m: wandb version 0.12.0 is available!  To upgrade, please run:\n",
      "\u001b[34m\u001b[1mwandb\u001b[0m:  $ pip install wandb --upgrade\n"
     ]
    },
    {
     "data": {
      "text/html": [
       "\n",
       "                Tracking run with wandb version 0.11.1<br/>\n",
       "                Syncing run <strong style=\"color:#cdcd00\">gentle-glitter-40</strong> to <a href=\"https://wandb.ai\" target=\"_blank\">Weights & Biases</a> <a href=\"https://docs.wandb.com/integrations/jupyter.html\" target=\"_blank\">(Documentation)</a>.<br/>\n",
       "                Project page: <a href=\"https://wandb.ai/uzk-wim/rsna-miccai-k-fold\" target=\"_blank\">https://wandb.ai/uzk-wim/rsna-miccai-k-fold</a><br/>\n",
       "                Run page: <a href=\"https://wandb.ai/uzk-wim/rsna-miccai-k-fold/runs/19zfu3x8\" target=\"_blank\">https://wandb.ai/uzk-wim/rsna-miccai-k-fold/runs/19zfu3x8</a><br/>\n",
       "                Run data is saved locally in <code>/home/jroessler/jupyterhub/rsna/notebooks/wandb/run-20210825_031004-19zfu3x8</code><br/><br/>\n",
       "            "
      ],
      "text/plain": [
       "<IPython.core.display.HTML object>"
      ]
     },
     "metadata": {},
     "output_type": "display_data"
    },
    {
     "name": "stderr",
     "output_type": "stream",
     "text": [
      "Training: 100%|██████████| 15/15 [09:26<00:00, 37.74s/it]\n",
      "Validation: 100%|██████████| 4/4 [02:19<00:00, 34.75s/it]\n",
      "Training: 100%|██████████| 15/15 [09:34<00:00, 38.28s/it]\n",
      "Validation: 100%|██████████| 4/4 [02:16<00:00, 34.23s/it]\n",
      "Training: 100%|██████████| 15/15 [09:37<00:00, 38.53s/it]\n",
      "Validation: 100%|██████████| 4/4 [02:19<00:00, 34.85s/it]\n",
      "Training: 100%|██████████| 15/15 [09:34<00:00, 38.28s/it]\n",
      "Validation: 100%|██████████| 4/4 [02:24<00:00, 36.06s/it]\n",
      "Training: 100%|██████████| 15/15 [09:32<00:00, 38.14s/it]\n",
      "Validation: 100%|██████████| 4/4 [02:20<00:00, 35.04s/it]\n",
      "Training: 100%|██████████| 15/15 [09:33<00:00, 38.24s/it]\n",
      "Validation: 100%|██████████| 4/4 [02:19<00:00, 34.92s/it]\n",
      "Training: 100%|██████████| 15/15 [09:34<00:00, 38.28s/it]\n",
      "Validation: 100%|██████████| 4/4 [02:20<00:00, 35.02s/it]\n",
      "Training: 100%|██████████| 15/15 [09:39<00:00, 38.60s/it]\n",
      "Validation: 100%|██████████| 4/4 [02:17<00:00, 34.45s/it]\n",
      "Training: 100%|██████████| 15/15 [09:43<00:00, 38.87s/it]\n",
      "Validation: 100%|██████████| 4/4 [02:21<00:00, 35.41s/it]\n",
      "Training: 100%|██████████| 15/15 [09:41<00:00, 38.74s/it]\n",
      "Validation: 100%|██████████| 4/4 [02:22<00:00, 35.74s/it]\n"
     ]
    },
    {
     "data": {
      "text/html": [
       "<br/>Waiting for W&B process to finish, PID 67497<br/>Program ended successfully."
      ],
      "text/plain": [
       "<IPython.core.display.HTML object>"
      ]
     },
     "metadata": {},
     "output_type": "display_data"
    },
    {
     "data": {
      "application/vnd.jupyter.widget-view+json": {
       "model_id": "d51b9dee5c094e5a8a2b0beadf6b838b",
       "version_major": 2,
       "version_minor": 0
      },
      "text/plain": [
       "VBox(children=(Label(value=' 0.00MB of 0.00MB uploaded (0.00MB deduped)\\r'), FloatProgress(value=1.0, max=1.0)…"
      ]
     },
     "metadata": {},
     "output_type": "display_data"
    },
    {
     "data": {
      "text/html": [
       "Find user logs for this run at: <code>/home/jroessler/jupyterhub/rsna/notebooks/wandb/run-20210825_031004-19zfu3x8/logs/debug.log</code>"
      ],
      "text/plain": [
       "<IPython.core.display.HTML object>"
      ]
     },
     "metadata": {},
     "output_type": "display_data"
    },
    {
     "data": {
      "text/html": [
       "Find internal logs for this run at: <code>/home/jroessler/jupyterhub/rsna/notebooks/wandb/run-20210825_031004-19zfu3x8/logs/debug-internal.log</code>"
      ],
      "text/plain": [
       "<IPython.core.display.HTML object>"
      ]
     },
     "metadata": {},
     "output_type": "display_data"
    },
    {
     "data": {
      "text/html": [
       "<h3>Run summary:</h3><br/><style>\n",
       "    table.wandb td:nth-child(1) { padding: 0 10px; text-align: right }\n",
       "    </style><table class=\"wandb\">\n",
       "<tr><td>epoch</td><td>9</td></tr><tr><td>train_loss</td><td>0.73528</td></tr><tr><td>train_roc</td><td>0.63224</td></tr><tr><td>_runtime</td><td>7159</td></tr><tr><td>_timestamp</td><td>1629868163</td></tr><tr><td>_step</td><td>19</td></tr><tr><td>valid_loss</td><td>0.84341</td></tr><tr><td>valid_roc</td><td>0.64183</td></tr><tr><td>best_loss</td><td>0.83588</td></tr><tr><td>best_roc</td><td>0.65896</td></tr></table>"
      ],
      "text/plain": [
       "<IPython.core.display.HTML object>"
      ]
     },
     "metadata": {},
     "output_type": "display_data"
    },
    {
     "data": {
      "text/html": [
       "<h3>Run history:</h3><br/><style>\n",
       "    table.wandb td:nth-child(1) { padding: 0 10px; text-align: right }\n",
       "    </style><table class=\"wandb\">\n",
       "<tr><td>epoch</td><td>▁▁▂▂▃▃▃▃▄▄▅▅▆▆▆▆▇▇██</td></tr><tr><td>train_loss</td><td>█▆▆▄▅▂▆▄▆▁</td></tr><tr><td>train_roc</td><td>▃▅▆▂▂▇█▅▁▅</td></tr><tr><td>_runtime</td><td>▁▁▂▂▃▃▃▃▄▄▅▅▆▆▆▆▇▇██</td></tr><tr><td>_timestamp</td><td>▁▁▂▂▃▃▃▃▄▄▅▅▆▆▆▆▇▇██</td></tr><tr><td>_step</td><td>▁▁▂▂▂▃▃▄▄▄▅▅▅▆▆▇▇▇██</td></tr><tr><td>valid_loss</td><td>▁▄▂▅█▅▆▇▅▇</td></tr><tr><td>valid_roc</td><td>█▅▅▅▁▅▅█▅▁</td></tr></table><br/>"
      ],
      "text/plain": [
       "<IPython.core.display.HTML object>"
      ]
     },
     "metadata": {},
     "output_type": "display_data"
    },
    {
     "data": {
      "text/html": [
       "Synced 5 W&B file(s), 0 media file(s), 0 artifact file(s) and 0 other file(s)"
      ],
      "text/plain": [
       "<IPython.core.display.HTML object>"
      ]
     },
     "metadata": {},
     "output_type": "display_data"
    },
    {
     "data": {
      "text/html": [
       "\n",
       "                    <br/>Synced <strong style=\"color:#cdcd00\">gentle-glitter-40</strong>: <a href=\"https://wandb.ai/uzk-wim/rsna-miccai-k-fold/runs/19zfu3x8\" target=\"_blank\">https://wandb.ai/uzk-wim/rsna-miccai-k-fold/runs/19zfu3x8</a><br/>\n",
       "                "
      ],
      "text/plain": [
       "<IPython.core.display.HTML object>"
      ]
     },
     "metadata": {},
     "output_type": "display_data"
    },
    {
     "name": "stderr",
     "output_type": "stream",
     "text": [
      "\u001b[34m\u001b[1mwandb\u001b[0m: wandb version 0.12.0 is available!  To upgrade, please run:\n",
      "\u001b[34m\u001b[1mwandb\u001b[0m:  $ pip install wandb --upgrade\n"
     ]
    },
    {
     "data": {
      "text/html": [
       "\n",
       "                Tracking run with wandb version 0.11.1<br/>\n",
       "                Syncing run <strong style=\"color:#cdcd00\">deft-lake-41</strong> to <a href=\"https://wandb.ai\" target=\"_blank\">Weights & Biases</a> <a href=\"https://docs.wandb.com/integrations/jupyter.html\" target=\"_blank\">(Documentation)</a>.<br/>\n",
       "                Project page: <a href=\"https://wandb.ai/uzk-wim/rsna-miccai-k-fold\" target=\"_blank\">https://wandb.ai/uzk-wim/rsna-miccai-k-fold</a><br/>\n",
       "                Run page: <a href=\"https://wandb.ai/uzk-wim/rsna-miccai-k-fold/runs/3jrikay5\" target=\"_blank\">https://wandb.ai/uzk-wim/rsna-miccai-k-fold/runs/3jrikay5</a><br/>\n",
       "                Run data is saved locally in <code>/home/jroessler/jupyterhub/rsna/notebooks/wandb/run-20210825_050927-3jrikay5</code><br/><br/>\n",
       "            "
      ],
      "text/plain": [
       "<IPython.core.display.HTML object>"
      ]
     },
     "metadata": {},
     "output_type": "display_data"
    },
    {
     "name": "stderr",
     "output_type": "stream",
     "text": [
      "Training: 100%|██████████| 15/15 [09:42<00:00, 38.87s/it]\n",
      "Validation: 100%|██████████| 4/4 [02:16<00:00, 34.11s/it]\n",
      "Training: 100%|██████████| 15/15 [09:35<00:00, 38.38s/it]\n",
      "Validation: 100%|██████████| 4/4 [02:16<00:00, 34.05s/it]\n",
      "Training: 100%|██████████| 15/15 [09:42<00:00, 38.84s/it]\n",
      "Validation: 100%|██████████| 4/4 [02:17<00:00, 34.37s/it]\n",
      "Training: 100%|██████████| 15/15 [09:43<00:00, 38.90s/it]\n",
      "Validation: 100%|██████████| 4/4 [02:15<00:00, 33.88s/it]\n",
      "Training: 100%|██████████| 15/15 [09:45<00:00, 39.05s/it]\n",
      "Validation: 100%|██████████| 4/4 [02:17<00:00, 34.28s/it]\n",
      "Training: 100%|██████████| 15/15 [09:36<00:00, 38.46s/it]\n",
      "Validation: 100%|██████████| 4/4 [02:17<00:00, 34.39s/it]\n",
      "Training: 100%|██████████| 15/15 [09:38<00:00, 38.54s/it]\n",
      "Validation: 100%|██████████| 4/4 [02:14<00:00, 33.51s/it]\n",
      "Training: 100%|██████████| 15/15 [09:33<00:00, 38.23s/it]\n",
      "Validation: 100%|██████████| 4/4 [02:18<00:00, 34.62s/it]\n",
      "Training: 100%|██████████| 15/15 [09:28<00:00, 37.91s/it]\n",
      "Validation: 100%|██████████| 4/4 [02:14<00:00, 33.54s/it]\n",
      "Training: 100%|██████████| 15/15 [09:39<00:00, 38.61s/it]\n",
      "Validation: 100%|██████████| 4/4 [02:19<00:00, 34.79s/it]\n"
     ]
    },
    {
     "data": {
      "text/html": [
       "<br/>Waiting for W&B process to finish, PID 58147<br/>Program ended successfully."
      ],
      "text/plain": [
       "<IPython.core.display.HTML object>"
      ]
     },
     "metadata": {},
     "output_type": "display_data"
    },
    {
     "data": {
      "application/vnd.jupyter.widget-view+json": {
       "model_id": "e349bbedb36e4e6fa19a34b97bdd9c19",
       "version_major": 2,
       "version_minor": 0
      },
      "text/plain": [
       "VBox(children=(Label(value=' 0.00MB of 0.00MB uploaded (0.00MB deduped)\\r'), FloatProgress(value=1.0, max=1.0)…"
      ]
     },
     "metadata": {},
     "output_type": "display_data"
    },
    {
     "data": {
      "text/html": [
       "Find user logs for this run at: <code>/home/jroessler/jupyterhub/rsna/notebooks/wandb/run-20210825_050927-3jrikay5/logs/debug.log</code>"
      ],
      "text/plain": [
       "<IPython.core.display.HTML object>"
      ]
     },
     "metadata": {},
     "output_type": "display_data"
    },
    {
     "data": {
      "text/html": [
       "Find internal logs for this run at: <code>/home/jroessler/jupyterhub/rsna/notebooks/wandb/run-20210825_050927-3jrikay5/logs/debug-internal.log</code>"
      ],
      "text/plain": [
       "<IPython.core.display.HTML object>"
      ]
     },
     "metadata": {},
     "output_type": "display_data"
    },
    {
     "data": {
      "text/html": [
       "<h3>Run summary:</h3><br/><style>\n",
       "    table.wandb td:nth-child(1) { padding: 0 10px; text-align: right }\n",
       "    </style><table class=\"wandb\">\n",
       "<tr><td>epoch</td><td>9</td></tr><tr><td>train_loss</td><td>0.74871</td></tr><tr><td>train_roc</td><td>0.61789</td></tr><tr><td>_runtime</td><td>7155</td></tr><tr><td>_timestamp</td><td>1629875322</td></tr><tr><td>_step</td><td>19</td></tr><tr><td>valid_loss</td><td>0.76448</td></tr><tr><td>valid_roc</td><td>0.58899</td></tr><tr><td>best_loss</td><td>0.75944</td></tr><tr><td>best_roc</td><td>0.60685</td></tr></table>"
      ],
      "text/plain": [
       "<IPython.core.display.HTML object>"
      ]
     },
     "metadata": {},
     "output_type": "display_data"
    },
    {
     "data": {
      "text/html": [
       "<h3>Run history:</h3><br/><style>\n",
       "    table.wandb td:nth-child(1) { padding: 0 10px; text-align: right }\n",
       "    </style><table class=\"wandb\">\n",
       "<tr><td>epoch</td><td>▁▁▂▂▃▃▃▃▄▄▅▅▆▆▆▆▇▇██</td></tr><tr><td>train_loss</td><td>▃█▅▇▃▁▂█▂▆</td></tr><tr><td>train_roc</td><td>▆█▄▅▁▆▄▆▆▂</td></tr><tr><td>_runtime</td><td>▁▁▂▂▃▃▃▃▄▄▅▅▆▆▆▆▇▇██</td></tr><tr><td>_timestamp</td><td>▁▁▂▂▃▃▃▃▄▄▅▅▆▆▆▆▇▇██</td></tr><tr><td>_step</td><td>▁▁▂▂▂▃▃▄▄▄▅▅▅▆▆▇▇▇██</td></tr><tr><td>valid_loss</td><td>▄▄█▃▃▃▅▃▁▅</td></tr><tr><td>valid_roc</td><td>▇▇▁▅▇▇▅▇█▅</td></tr></table><br/>"
      ],
      "text/plain": [
       "<IPython.core.display.HTML object>"
      ]
     },
     "metadata": {},
     "output_type": "display_data"
    },
    {
     "data": {
      "text/html": [
       "Synced 5 W&B file(s), 0 media file(s), 0 artifact file(s) and 0 other file(s)"
      ],
      "text/plain": [
       "<IPython.core.display.HTML object>"
      ]
     },
     "metadata": {},
     "output_type": "display_data"
    },
    {
     "data": {
      "text/html": [
       "\n",
       "                    <br/>Synced <strong style=\"color:#cdcd00\">deft-lake-41</strong>: <a href=\"https://wandb.ai/uzk-wim/rsna-miccai-k-fold/runs/3jrikay5\" target=\"_blank\">https://wandb.ai/uzk-wim/rsna-miccai-k-fold/runs/3jrikay5</a><br/>\n",
       "                "
      ],
      "text/plain": [
       "<IPython.core.display.HTML object>"
      ]
     },
     "metadata": {},
     "output_type": "display_data"
    }
   ],
   "source": [
    "loss_avg = []\n",
    "roc_avg = []\n",
    "\n",
    "kfold = StratifiedKFold(n_splits=config.N_SPLITS, shuffle=True, random_state=42)\n",
    "for i, (idx_train, idx_valid) in enumerate(kfold.split(df, df[\"MGMT_value\"])):\n",
    "    if i > 0:\n",
    "        run = wandb.init(entity=\"uzk-wim\", project='rsna-miccai-k-fold', config=config_dict, mode=\"online\", group=run_name)\n",
    "    wandb.run.name = f\"{config.MODELNAME}-{str(config.SLICE_NUMBER)}-{str(config.SIZE)}-{str(i)}\"\n",
    "    df_train = df.iloc[idx_train].copy()\n",
    "    df_valid = df.iloc[idx_valid].copy()\n",
    "    \n",
    "    train_ds = RSNADataset(df_train[\"BraTS21ID\"].to_numpy(), df_train[\"MGMT_value\"].to_numpy(), dicom=config.DICOM)\n",
    "    train_dl = DataLoader(train_ds, batch_size=config.BATCH_SIZE, shuffle=True)\n",
    "    valid_ds = RSNADataset(df_valid[\"BraTS21ID\"].to_numpy(), df_valid[\"MGMT_value\"].to_numpy(), split='valid', dicom=config.DICOM)\n",
    "    valid_dl = DataLoader(valid_ds, batch_size=config.BATCH_SIZE, shuffle=False)\n",
    "\n",
    "    best_loss, best_roc = training(model, config.N_EPOCHS, optimizer, loss_function, scheduler, train_dl, valid_dl, i)\n",
    "    loss_avg.append(best_loss)\n",
    "    roc_avg.append(best_roc)\n",
    "    \n",
    "    run.finish()"
   ]
  },
  {
   "cell_type": "markdown",
   "id": "9af4f297-3162-44e2-a3dc-9de25b3b560b",
   "metadata": {},
   "source": [
    "Done"
   ]
  }
 ],
 "metadata": {
  "kernelspec": {
   "display_name": "Python [pipenv: Kaggle]",
   "language": "python",
   "name": "kaggle_env"
  },
  "language_info": {
   "codemirror_mode": {
    "name": "ipython",
    "version": 3
   },
   "file_extension": ".py",
   "mimetype": "text/x-python",
   "name": "python",
   "nbconvert_exporter": "python",
   "pygments_lexer": "ipython3",
   "version": "3.6.8"
  }
 },
 "nbformat": 4,
 "nbformat_minor": 5
}
