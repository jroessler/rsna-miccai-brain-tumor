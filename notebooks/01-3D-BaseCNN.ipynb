{
 "cells": [
  {
   "cell_type": "markdown",
   "id": "17c4df0b-8f20-49bc-9e75-fcc5e3985edd",
   "metadata": {},
   "source": [
    "# Baseline - 3D CNN\n",
    "\n",
    "Baseline notebook using\n",
    "\n",
    "**3D images**\n",
    "* each image has the following shape: Channel x Width x Height x Depth\n",
    "* *channel:* the channel represents a specific MRI type. Further, each image contains all four MRI types (i.e., channel=4)\n",
    "* *depth:* the depth represents the depth or the number of slices. I tried various values >= 30. Caution: If for a given id, <= depth slices were available, I replaced the missing depth slices with zero matrices\n",
    "* added some albumentation such as CLAHE, brightness, and CoarseDropout\n",
    "* removed black pixels (see (here)[https://www.kaggle.com/furcifer/torch-efficientnet3d-for-mri-no-train]\n",
    "\n",
    "**3D CNN**\n",
    "* 4x Conv3d layers\n",
    "* 3x MaxPool3d layers\n",
    "* 1x AdaptiveMaxPool3d layers\n",
    "* 2x fc layers"
   ]
  },
  {
   "cell_type": "markdown",
   "id": "f890c327-af46-4b0a-ae4f-66b0b1eb80e1",
   "metadata": {},
   "source": [
    "#### Imports"
   ]
  },
  {
   "cell_type": "code",
   "execution_count": 1,
   "id": "c7beefc9-1c77-469d-aa86-0852ce4d8528",
   "metadata": {},
   "outputs": [],
   "source": [
    "import os\n",
    "import random\n",
    "import glob\n",
    "import re\n",
    "\n",
    "import pandas as pd\n",
    "\n",
    "import numpy as np\n",
    "\n",
    "from sklearn.metrics import roc_auc_score\n",
    "\n",
    "import matplotlib.pyplot as plt\n",
    "\n",
    "import torch\n",
    "import torch.nn as nn\n",
    "from torch.utils.data import Dataset, DataLoader\n",
    "import torch.nn.functional as F\n",
    "from torchvision import transforms, utils\n",
    "\n",
    "import pydicom\n",
    "from pydicom.pixel_data_handlers.util import apply_voi_lut\n",
    "\n",
    "import cv2\n",
    "\n",
    "import albumentations as A\n",
    "\n",
    "from tqdm import tqdm\n",
    "\n",
    "import wandb\n",
    "\n",
    "import warnings\n",
    "warnings.simplefilter(\"ignore\", UserWarning)\n",
    "warnings.simplefilter(\"ignore\", RuntimeWarning)"
   ]
  },
  {
   "cell_type": "markdown",
   "id": "c69032e1-e9c2-42b2-ad4b-41828b74a756",
   "metadata": {},
   "source": [
    "#### Seed"
   ]
  },
  {
   "cell_type": "code",
   "execution_count": 2,
   "id": "57758aa8-de49-474a-b7b9-23fc743a24c0",
   "metadata": {},
   "outputs": [],
   "source": [
    "def set_seed(seed):\n",
    "    random.seed(seed)\n",
    "    os.environ[\"PYTHONHASHSEED\"] = str(seed)\n",
    "    np.random.seed(seed)\n",
    "    torch.manual_seed(seed)\n",
    "    if torch.cuda.is_available():\n",
    "        torch.cuda.manual_seed_all(seed)\n",
    "        torch.backends.cudnn.deterministic = True\n",
    "\n",
    "\n",
    "set_seed(42)"
   ]
  },
  {
   "cell_type": "markdown",
   "id": "3ddc7dbb-4714-42e3-b8d7-ecfcf2ad6a1f",
   "metadata": {},
   "source": [
    "#### Config"
   ]
  },
  {
   "cell_type": "code",
   "execution_count": 3,
   "id": "58e95b81-d9aa-489d-94c2-f2641cbd6121",
   "metadata": {},
   "outputs": [],
   "source": [
    "PATH = '..'\n",
    "\n",
    "config = dict(\n",
    "    # Pre-processing\n",
    "    SLICE_NUMBER = 50, # >= 30\n",
    "    REMOVE_BLACK_BOUNDARIES = False,\n",
    "    DATASET='PNG',\n",
    "    # Albumentation\n",
    "    RRC_SIZE = 256,\n",
    "    RRC_MIN_SCALE = 0.85,\n",
    "    RRC_RATIO = (1., 1.),\n",
    "    CLAHE_CLIP_LIMIT = 2.0,\n",
    "    CLAHE_TILE_GRID_SIZE = (8, 8),\n",
    "    CLAHE_PROB = 0.50,\n",
    "    BRIGHTNESS_LIMIT = (-0.2,0.2),\n",
    "    BRIGHTNESS_PROB = 0.40,\n",
    "    HUE_SHIFT = (-15, 15),\n",
    "    SAT_SHIFT = (-15, 15),\n",
    "    VAL_SHIFT = (-15, 15),\n",
    "    HUE_PROB = 0.64,\n",
    "    COARSE_MAX_HOLES = 16,\n",
    "    COARSE_PROB = 0.7,\n",
    "    # Training\n",
    "    N_EPOCHS = 10,\n",
    "    BATCH_SIZE = 8,\n",
    "    LEARNING_RATE = 0.01,\n",
    "    # Logging\n",
    "    VERBOSE = False,\n",
    ")\n",
    "\n",
    "device = torch.device('cuda' if torch.cuda.is_available() else 'cpu')"
   ]
  },
  {
   "cell_type": "markdown",
   "id": "2ee6ace1-a624-45dd-a40a-18dcd36d340b",
   "metadata": {},
   "source": [
    "#### wandb"
   ]
  },
  {
   "cell_type": "code",
   "execution_count": 4,
   "id": "716a67c0-30f1-4072-88e8-d89c4f346ae6",
   "metadata": {},
   "outputs": [
    {
     "name": "stderr",
     "output_type": "stream",
     "text": [
      "\u001b[34m\u001b[1mwandb\u001b[0m: \u001b[33mWARNING\u001b[0m WANDB_NOTEBOOK_NAME should be a path to a notebook file, couldn't find 01-3D-BaseCNN\n",
      "\u001b[34m\u001b[1mwandb\u001b[0m: Currently logged in as: \u001b[33mgusto\u001b[0m (use `wandb login --relogin` to force relogin)\n"
     ]
    },
    {
     "data": {
      "text/html": [
       "\n",
       "                Tracking run with wandb version 0.11.0<br/>\n",
       "                Syncing run <strong style=\"color:#cdcd00\">splendid-moon-41</strong> to <a href=\"https://wandb.ai\" target=\"_blank\">Weights & Biases</a> <a href=\"https://docs.wandb.com/integrations/jupyter.html\" target=\"_blank\">(Documentation)</a>.<br/>\n",
       "                Project page: <a href=\"https://wandb.ai/gusto/rsna-miccai\" target=\"_blank\">https://wandb.ai/gusto/rsna-miccai</a><br/>\n",
       "                Run page: <a href=\"https://wandb.ai/gusto/rsna-miccai/runs/33xxlotw\" target=\"_blank\">https://wandb.ai/gusto/rsna-miccai/runs/33xxlotw</a><br/>\n",
       "                Run data is saved locally in <code>/home/jroessler/jupyterhub/rsna/notebooks/wandb/run-20210728_151533-33xxlotw</code><br/><br/>\n",
       "            "
      ],
      "text/plain": [
       "<IPython.core.display.HTML object>"
      ]
     },
     "metadata": {},
     "output_type": "display_data"
    }
   ],
   "source": [
    "os.environ[\"WANDB_NOTEBOOK_NAME\"] = \"01-3D-BaseCNN\"\n",
    "wandb.login()\n",
    "run = wandb.init(project='rsna-miccai', config=config)\n",
    "config = wandb.config"
   ]
  },
  {
   "cell_type": "markdown",
   "id": "fe263350-abc7-47d3-a470-a57a7060b7e1",
   "metadata": {},
   "source": [
    "### 1. Load Data\n",
    "\n",
    "For each person, we were given *four* different MRI types: \n",
    "* FLAIR\n",
    "* T1w\n",
    "* T1wCE, and \n",
    "* T2w. \n",
    "\n",
    "We will create 3D images which are composed of each MRI type (4 sequences) where each sequence is composed of *slice_number* (e.g. 50) slices (i.e., depth).<br>\n",
    "Shape:  *Channel x Width x Height x Depth*\n"
   ]
  },
  {
   "cell_type": "markdown",
   "id": "96eb4664-2143-4c1b-9f81-7a58d16edd73",
   "metadata": {},
   "source": [
    "### 1.1 Utilities"
   ]
  },
  {
   "cell_type": "markdown",
   "id": "8eb2fba5-e062-4ab1-8b9e-ca72e9b36732",
   "metadata": {},
   "source": [
    "#### 1.1.1 Augmentation"
   ]
  },
  {
   "cell_type": "code",
   "execution_count": 5,
   "id": "bd9c02d3-d25b-4c3f-95e5-545894a0a460",
   "metadata": {},
   "outputs": [],
   "source": [
    "train_transform = A.Compose([\n",
    "    A.RandomResizedCrop(\n",
    "        config.RRC_SIZE, config.RRC_SIZE,            \n",
    "        scale=(config.RRC_MIN_SCALE, 1.0),\n",
    "        ratio=config.RRC_RATIO,\n",
    "        p=1.0\n",
    "    ),\n",
    "    A.CLAHE(\n",
    "        clip_limit=config.CLAHE_CLIP_LIMIT,\n",
    "        tile_grid_size=config.CLAHE_TILE_GRID_SIZE,\n",
    "        p=config.CLAHE_PROB\n",
    "    ),\n",
    "    A.RandomBrightnessContrast(\n",
    "        brightness_limit=config.BRIGHTNESS_LIMIT,\n",
    "        p=config.BRIGHTNESS_PROB\n",
    "    ),\n",
    "    A.HueSaturationValue(\n",
    "        hue_shift_limit=config.HUE_SHIFT, \n",
    "        sat_shift_limit=config.SAT_SHIFT, \n",
    "        val_shift_limit=config.VAL_SHIFT, \n",
    "        p=config.HUE_PROB\n",
    "    ),\n",
    "    A.CoarseDropout(\n",
    "        max_holes=config.COARSE_MAX_HOLES,\n",
    "        p=config.COARSE_PROB),\n",
    "])\n",
    "\n",
    "valid_transform = A.Compose([\n",
    "    A.RandomResizedCrop( \n",
    "        config.RRC_SIZE, config.RRC_SIZE,            \n",
    "        scale=(config.RRC_MIN_SCALE, 1.0),\n",
    "        ratio=config.RRC_RATIO,\n",
    "        p=1.0\n",
    "    )\n",
    "])"
   ]
  },
  {
   "cell_type": "markdown",
   "id": "2e7aedeb-df7f-45a4-9646-97bde2c10c19",
   "metadata": {},
   "source": [
    "#### 1.1.2 Loading Images"
   ]
  },
  {
   "cell_type": "code",
   "execution_count": 6,
   "id": "2cec6f51-ff10-46d5-a325-e90acd1e00c0",
   "metadata": {},
   "outputs": [],
   "source": [
    "def get_slices(mri_type, aug):\n",
    "    if config.VERBOSE:\n",
    "        print(f\"Length of folder: {len(mri_type)}\")\n",
    "    # Take SLICE_NUMBER slices from the middle\n",
    "    threshold = config.SLICE_NUMBER // 2\n",
    "    minimum_idx = len(mri_type)//2 - threshold if (len(mri_type)//2 - threshold) > 0 else 0\n",
    "    maximum_idx = len(mri_type)//2 + threshold  # maximum can exceed the index\n",
    "    if config.VERBOSE:\n",
    "        print(f\"Minimum {minimum_idx}\")\n",
    "        print(f\"Maximum {maximum_idx}\")\n",
    "    # Create array which contains the images\n",
    "    mri_img = []\n",
    "    for file in mri_type[minimum_idx:maximum_idx]:\n",
    "        img = cv2.imread(file, cv2.IMREAD_GRAYSCALE)\n",
    "        if config.REMOVE_BLACK_BOUNDARIES:\n",
    "            (x, y) = np.where(img > 0)\n",
    "            if len(x) > 0 and len(y) > 0:\n",
    "                x_mn = np.min(x)\n",
    "                x_mx = np.max(x)\n",
    "                y_mn = np.min(y)\n",
    "                y_mx = np.max(y)\n",
    "                if (x_mx - x_mn) > 10 and (y_mx - y_mn) > 10:\n",
    "                    img = img[:,np.min(y):np.max(y)]\n",
    "        if aug:\n",
    "            transformed = train_transform(image=img)\n",
    "            img = transformed[\"image\"]\n",
    "        else:\n",
    "            transformed = valid_transform(image=img)\n",
    "            img = transformed[\"image\"]\n",
    "        mri_img.append(np.array(img))\n",
    "    mri_img = np.array(mri_img).T\n",
    "    # If less than SLICE_NUMBER slices, add SLICE_NUMBER - mri_img.shape[-1] images with only zero values\n",
    "    if mri_img.shape[-1] < config.SLICE_NUMBER:\n",
    "        if config.VERBOSE:\n",
    "            print(f\"Current slices: {mri_img.shape[-1]}\")\n",
    "        n_zero = config.SLICE_NUMBER - mri_img.shape[-1]\n",
    "        mri_img = np.concatenate((mri_img, np.zeros((config.RRC_SIZE, config.RRC_SIZE, n_zero))), axis = -1)\n",
    "    if config.VERBOSE:\n",
    "        print(f\"Shape of mri_img: {mri_img.shape}\")\n",
    "    return mri_img\n",
    "    \n",
    "\n",
    "def load_images(scan_id, aug=True):\n",
    "    # Ascending sort\n",
    "    flair = sorted(glob.glob(f\"{PATH}/train/{scan_id}/FLAIR/*.png\"), key=lambda f: int(re.sub('\\D', '', f)))\n",
    "    t1w = sorted(glob.glob(f\"{PATH}/train/{scan_id}/T1w/*.png\"), key=lambda f: int(re.sub('\\D', '', f)))\n",
    "    t1wce = sorted(glob.glob(f\"{PATH}/train/{scan_id}/T1wCE/*.png\"), key=lambda f: int(re.sub('\\D', '', f)))\n",
    "    t2w = sorted(glob.glob(f\"{PATH}/train/{scan_id}/T2w/*.png\"), key=lambda f: int(re.sub('\\D', '', f)))\n",
    "    \n",
    "    if config.VERBOSE:\n",
    "        print(f\"Scan id {scan_id}\")\n",
    "    flair_img = get_slices(flair, aug)\n",
    "    t1w_img = get_slices(t1w, aug)\n",
    "    t1wce_img = get_slices(t1wce, aug)\n",
    "    t2w_img = get_slices(t2w, aug)\n",
    "    \n",
    "    # Return 3D image: ChannelsxWidthxHeightxDepth\n",
    "    return np.moveaxis(np.array((flair_img, t1w_img, t1wce_img, t2w_img)), 0, 0)"
   ]
  },
  {
   "cell_type": "markdown",
   "id": "7a2a29f7-6588-4f19-8bef-f246a3dace77",
   "metadata": {},
   "source": [
    "#### Example"
   ]
  },
  {
   "cell_type": "code",
   "execution_count": 7,
   "id": "2e6267c9-cd4d-4d6d-9815-9eda3dc543d6",
   "metadata": {},
   "outputs": [
    {
     "data": {
      "image/png": "[encoded data removed]",
      "text/plain": [
       "<Figure size 432x288 with 1 Axes>"
      ]
     },
     "metadata": {
      "needs_background": "light"
     },
     "output_type": "display_data"
    }
   ],
   "source": [
    "slices_aug = load_images(\"00002\", aug=True)\n",
    "one_sclice = slices_aug[0,:,:,0]\n",
    "plt.imshow(one_sclice)\n",
    "plt.show()"
   ]
  },
  {
   "cell_type": "code",
   "execution_count": 8,
   "id": "e9cd53e5-2f7f-47c1-8e1b-06e572bd184d",
   "metadata": {},
   "outputs": [
    {
     "data": {
      "image/png": "[encoded data removed]",
      "text/plain": [
       "<Figure size 432x288 with 1 Axes>"
      ]
     },
     "metadata": {
      "needs_background": "light"
     },
     "output_type": "display_data"
    }
   ],
   "source": [
    "slices = load_images(\"00002\", aug=False)\n",
    "one_sclice = slices[0,:,:,0]\n",
    "plt.imshow(one_sclice)\n",
    "plt.show()"
   ]
  },
  {
   "cell_type": "markdown",
   "id": "e375fe33-206e-47fa-87ee-39e5c68ac346",
   "metadata": {},
   "source": [
    "### 1.2 Dataset and Dataloader"
   ]
  },
  {
   "cell_type": "code",
   "execution_count": 9,
   "id": "dbf7314b-c6de-4490-b3cc-ca6a5295c1db",
   "metadata": {},
   "outputs": [],
   "source": [
    "class RSNADataset(Dataset):\n",
    "    def __init__(self, path='../', split = \"train\", validation_split = 0.2):\n",
    "        train_data = pd.read_csv(os.path.join(path, 'train_labels.csv'))\n",
    "        self.labels = {}\n",
    "        brats = list(train_data[\"BraTS21ID\"])\n",
    "        mgmt = list(train_data[\"MGMT_value\"])\n",
    "        for b, m in zip(brats, mgmt):\n",
    "            self.labels[str(b).zfill(5)] = m\n",
    "            \n",
    "        remove_ids = [\"00709\", \"00109\", \"00123\"]\n",
    "            \n",
    "        if split == \"valid\":\n",
    "            self.split = split\n",
    "            self.ids = [a.split(\"/\")[-1] for a in sorted(glob.glob((path + f\"/train/\" + \"/*\")), key=lambda f: int(re.sub('\\D', '', f)))]\n",
    "            self.ids = self.ids[:int(len(self.ids) * validation_split)] # first 20% as validation\n",
    "        elif split == \"train\":\n",
    "            self.split = split\n",
    "            self.ids = [a.split(\"/\")[-1] for a in sorted(glob.glob((path + f\"/train/\" + \"/*\")), key=lambda f: int(re.sub('\\D', '', f)))]\n",
    "            self.ids = self.ids[int(len(self.ids) * validation_split):] # last 80% as train\n",
    "        elif split == \"test\":\n",
    "            self.split = split\n",
    "            self.ids = [a.split(\"/\")[-1] for a in sorted(glob.glob((path + f\"/test/\" + \"/*\")), key=lambda f: int(re.sub('\\D', '', f)))]\n",
    "        else:\n",
    "            self.split = split\n",
    "            self.ids = [a.split(\"/\")[-1] for a in sorted(glob.glob((path + f\"/train/\" + \"/*\")), key=lambda f: int(re.sub('\\D', '', f)))]\n",
    "        \n",
    "        self.ids = [id_ for id_ in self.ids if id_ not in remove_ids]            \n",
    "    \n",
    "    def __len__(self):\n",
    "        return len(self.ids)\n",
    "    \n",
    "    def __getitem__(self, idx):\n",
    "        if self.split == \"train\":\n",
    "            imgs = load_images(self.ids[idx], aug=True)\n",
    "        else:\n",
    "            imgs = load_images(self.ids[idx], aug=False)\n",
    "        imgs = imgs - imgs.min()\n",
    "        imgs = (imgs + 1e-5) / (imgs.max() - imgs.min() + 1e-5)\n",
    "\n",
    "        if self.split != \"test\":\n",
    "            label = self.labels[self.ids[idx]]\n",
    "            return torch.tensor(imgs, dtype = torch.float32), torch.tensor(label, dtype = torch.long)\n",
    "        else:\n",
    "            return torch.tensor(imgs, dtype = torch.float32)"
   ]
  },
  {
   "cell_type": "code",
   "execution_count": 10,
   "id": "3f5408cd-a9f8-4736-b12e-e8679a79bbf2",
   "metadata": {},
   "outputs": [],
   "source": [
    "train_ds = RSNADataset()\n",
    "train_dl = DataLoader(train_ds, batch_size=config.BATCH_SIZE, shuffle=True)\n",
    "valid_ds = RSNADataset(split='valid')\n",
    "valid_dl = DataLoader(valid_ds, batch_size=config.BATCH_SIZE, shuffle=False)"
   ]
  },
  {
   "cell_type": "code",
   "execution_count": 11,
   "id": "dbc05117-0a72-4c3f-ae15-629c568e0bd9",
   "metadata": {},
   "outputs": [
    {
     "name": "stdout",
     "output_type": "stream",
     "text": [
      "Shape of the batch torch.Size([8, 4, 256, 256, 50])\n",
      "Batch size: 8\n",
      "Number of channels each image has: 4\n",
      "Size of each image is: 256x256\n",
      "Depth of each channel/sequence: 50\n"
     ]
    }
   ],
   "source": [
    "images, labels = next(iter(train_dl))\n",
    "print(f\"Shape of the batch {images.shape}\")\n",
    "print(f\"Batch size: {images.shape[0]}\")\n",
    "print(f\"Number of channels each image has: {images.shape[1]}\")\n",
    "print(f\"Size of each image is: {images.shape[2]}x{images.shape[3]}\")\n",
    "print(f\"Depth of each channel/sequence: {images.shape[-1]}\")"
   ]
  },
  {
   "cell_type": "markdown",
   "id": "49cd7879-f56f-4241-b841-9ee3e85d46c2",
   "metadata": {},
   "source": [
    "### 1.3 Model"
   ]
  },
  {
   "cell_type": "code",
   "execution_count": 12,
   "id": "fd327d83-3b1f-48b2-b7dc-2a8531124fe5",
   "metadata": {},
   "outputs": [],
   "source": [
    "class GliobCNN(nn.Module): \n",
    "    def __init__(self):\n",
    "        super(GliobCNN, self).__init__()\n",
    "        \n",
    "        # Convolutional layers\n",
    "        self.conv1 = nn.Conv3d(in_channels=4, out_channels=64, kernel_size=3, stride=1)\n",
    "        self.conv2 = nn.Conv3d(in_channels=64, out_channels=32, kernel_size=3, stride=1)\n",
    "        self.conv3 = nn.Conv3d(in_channels=32, out_channels=16, kernel_size=3, stride=1)\n",
    "        self.conv4 = nn.Conv3d(in_channels=16, out_channels=8, kernel_size=3, stride=1, padding=1)\n",
    "        \n",
    "        # Pooling layers\n",
    "        self.pooling1 = nn.MaxPool3d(kernel_size=3, stride=2)\n",
    "        self.pooling2 = nn.MaxPool3d(kernel_size=3, stride=2)\n",
    "        self.pooling3 = nn.MaxPool3d(kernel_size=3, stride=2)\n",
    "        self.pooling4 = nn.AdaptiveMaxPool3d(10)\n",
    "        \n",
    "        # Fully connected layers\n",
    "        self.fc1 = nn.Linear(8000, 4096)\n",
    "        self.fc2 = nn.Linear(4096, 2)\n",
    "\n",
    "    def forward(self, X):\n",
    "        \n",
    "        X = F.relu(self.conv1(X))\n",
    "        X = self.pooling1(X)   \n",
    "        X = F.relu(self.conv2(X))\n",
    "        X = self.pooling2(X)\n",
    "        X = F.relu(self.conv3(X))\n",
    "        X = self.pooling3(X)\n",
    "        X = F.relu(self.conv4(X))\n",
    "        X = self.pooling4(X)       # 8x10x10x10\n",
    "        X = X.flatten(1)           # 8000\n",
    "        X = F.relu(self.fc1(X))    # 4096\n",
    "        X = self.fc2(X)            # 2\n",
    "\n",
    "        return X"
   ]
  },
  {
   "cell_type": "code",
   "execution_count": 13,
   "id": "0b3b9091-74b9-45dc-ab93-f5faaefe38e9",
   "metadata": {},
   "outputs": [],
   "source": [
    "model = GliobCNN()"
   ]
  },
  {
   "cell_type": "markdown",
   "id": "27df09a3-54f9-4f8b-a083-122a50d8f565",
   "metadata": {},
   "source": [
    "### 1.4 Training"
   ]
  },
  {
   "cell_type": "code",
   "execution_count": 14,
   "id": "7baecc1e-f75a-45f8-99a8-2541fe728813",
   "metadata": {},
   "outputs": [],
   "source": [
    "def one_hot(arr):\n",
    "    return [[1, 0] if a_i == 0 else [0, 1] for a_i in arr]\n",
    "\n",
    "def training(net, n_epochs, optimizer, loss_function, scheduler):\n",
    "    wandb.watch(net, loss_function, log='all', log_freq=10)\n",
    "    # Store the losses for each epoch\n",
    "    loss_train_list = []\n",
    "    loss_valid_list = []\n",
    "\n",
    "    # Store the roc for each epoch\n",
    "    roc_train_list = []\n",
    "    roc_valid_list = []\n",
    "    \n",
    "    best_roc = 0.0\n",
    "\n",
    "    # Iterate over the dataset n_epochs times\n",
    "    for epoch in range(n_epochs):\n",
    "        net.train()  # net.train() will notify all your layers that you are in training mode\n",
    "\n",
    "        train_loss = 0  # Training loss in epoch\n",
    "        y_train_list = []\n",
    "        y_hat_train_list = []\n",
    "        roc_train = 0.0\n",
    "\n",
    "        # For each batch, pass the training examples, calculate loss and gradients and optimize the parameters\n",
    "        for xb, yb in tqdm(train_dl, desc=\"Training\"):\n",
    "            optimizer.zero_grad()  # zero_grad clears old gradients from the last step\n",
    "\n",
    "            xb = xb.to(device)\n",
    "            yb = yb.to(device)\n",
    "\n",
    "            y_hat = net(xb)  # Forward pass\n",
    "            loss = loss_function(y_hat, yb)  # Calculate Loss\n",
    "\n",
    "            loss.backward()  # Calculate the gradients (using backpropagation)\n",
    "            optimizer.step()  # # Optimize the parameters: opt.step() causes the optimizer to take a step based on the gradients of the parameters.\n",
    "\n",
    "            train_loss += loss.item()\n",
    "            y_train_list.extend(yb.tolist())\n",
    "            y_hat_train_list.extend(y_hat.tolist())\n",
    "\n",
    "        roc_train += roc_auc_score(one_hot(y_train_list), y_hat_train_list)\n",
    "                \n",
    "        wandb.log({\"epoch\": epoch, \"train_loss\": train_loss, \"train_roc\": roc_train})\n",
    "\n",
    "        valid_loss = 0  # Validation loss in epoch\n",
    "        y_valid_list = []\n",
    "        y_hat_valid_list = []\n",
    "        roc_valid = 0.0\n",
    "\n",
    "        net.eval()  # net.eval() will notify all your layers that you are in evaluation mode\n",
    "        with torch.no_grad():\n",
    "            # Perform a prediction on the validation set  \n",
    "            for xb_valid, yb_valid in tqdm(valid_dl, desc=\"Validation\"):\n",
    "                xb_valid = xb_valid.to(device)\n",
    "                yb_valid = yb_valid.to(device)\n",
    "\n",
    "                y_hat = net(xb_valid)  # Forward pass\n",
    "                loss = loss_function(y_hat, yb_valid)  # Calculate Loss\n",
    "\n",
    "                valid_loss += loss.item()\n",
    "                y_valid_list.extend(yb_valid.tolist())\n",
    "                y_hat_valid_list.extend(y_hat.tolist())\n",
    "\n",
    "        roc_valid += roc_auc_score(one_hot(y_valid_list), y_hat_valid_list)\n",
    "        scheduler.step(valid_loss)\n",
    "\n",
    "        wandb.log({\"epoch\": epoch, \"test_loss\": valid_loss, \"test_roc\": roc_valid})\n",
    "\n",
    "        loss_train_list.append(train_loss)\n",
    "        loss_valid_list.append(valid_loss)\n",
    "        roc_train_list.append(roc_train)\n",
    "        roc_valid_list.append(roc_valid)\n",
    "        \n",
    "        if roc_valid > best_roc:\n",
    "            best_roc = roc_valid\n",
    "            torch.save(net.state_dict(), f'../models/02-3D-ResNet18-roc-{round(best_roc, 2)}.pt')\n",
    "\n",
    "    return roc_train_list, roc_valid_list, loss_train_list, loss_valid_list"
   ]
  },
  {
   "cell_type": "code",
   "execution_count": 15,
   "id": "749e8f68-d129-4924-a6a1-141bf929a5a7",
   "metadata": {},
   "outputs": [
    {
     "name": "stderr",
     "output_type": "stream",
     "text": [
      "Training: 100%|██████████| 59/59 [04:52<00:00,  4.96s/it]\n",
      "Validation: 100%|██████████| 15/15 [00:51<00:00,  3.41s/it]\n",
      "Training: 100%|██████████| 59/59 [04:48<00:00,  4.89s/it]\n",
      "Validation: 100%|██████████| 15/15 [00:49<00:00,  3.31s/it]\n",
      "Training: 100%|██████████| 59/59 [04:55<00:00,  5.01s/it]\n",
      "Validation: 100%|██████████| 15/15 [00:49<00:00,  3.32s/it]\n",
      "Training: 100%|██████████| 59/59 [04:40<00:00,  4.76s/it]\n",
      "Validation: 100%|██████████| 15/15 [00:49<00:00,  3.29s/it]\n",
      "Training: 100%|██████████| 59/59 [04:47<00:00,  4.86s/it]\n",
      "Validation: 100%|██████████| 15/15 [00:49<00:00,  3.28s/it]\n",
      "Training: 100%|██████████| 59/59 [05:36<00:00,  5.70s/it]\n",
      "Validation: 100%|██████████| 15/15 [00:49<00:00,  3.33s/it]\n",
      "Training: 100%|██████████| 59/59 [04:53<00:00,  4.98s/it]\n",
      "Validation: 100%|██████████| 15/15 [00:48<00:00,  3.26s/it]\n",
      "Training: 100%|██████████| 59/59 [04:53<00:00,  4.98s/it]\n",
      "Validation: 100%|██████████| 15/15 [00:50<00:00,  3.34s/it]\n",
      "Training: 100%|██████████| 59/59 [04:54<00:00,  4.99s/it]\n",
      "Validation: 100%|██████████| 15/15 [00:48<00:00,  3.26s/it]\n",
      "Training: 100%|██████████| 59/59 [04:49<00:00,  4.91s/it]\n",
      "Validation: 100%|██████████| 15/15 [00:56<00:00,  3.76s/it]\n"
     ]
    }
   ],
   "source": [
    "# Create Loss Function\n",
    "loss_function = nn.CrossEntropyLoss()\n",
    "\n",
    "# Create optimizer\n",
    "optimizer = torch.optim.SGD(model.parameters(),lr = config.LEARNING_RATE)\n",
    "\n",
    "# Scheduler\n",
    "scheduler = torch.optim.lr_scheduler.ReduceLROnPlateau(optimizer, 'min', patience=3, factor=0.25)\n",
    "\n",
    "model.to(device)\n",
    "\n",
    "roc_train, roc_valid, loss_train, loss_valid = training(model, config.N_EPOCHS, optimizer, loss_function, scheduler)"
   ]
  },
  {
   "cell_type": "code",
   "execution_count": 18,
   "id": "5eb1d73c-6206-4a29-a9ef-51bb79550f33",
   "metadata": {},
   "outputs": [
    {
     "name": "stderr",
     "output_type": "stream",
     "text": [
      "Run pip install nbformat to save notebook history\n"
     ]
    },
    {
     "data": {
      "text/html": [
       "<br/>Waiting for W&B process to finish, PID 91576<br/>Program ended successfully."
      ],
      "text/plain": [
       "<IPython.core.display.HTML object>"
      ]
     },
     "metadata": {},
     "output_type": "display_data"
    },
    {
     "data": {
      "text/html": [
       "Find user logs for this run at: <code>/home/jroessler/jupyterhub/rsna/notebooks/wandb/run-20210728_151533-33xxlotw/logs/debug.log</code>"
      ],
      "text/plain": [
       "<IPython.core.display.HTML object>"
      ]
     },
     "metadata": {},
     "output_type": "display_data"
    },
    {
     "data": {
      "text/html": [
       "Find internal logs for this run at: <code>/home/jroessler/jupyterhub/rsna/notebooks/wandb/run-20210728_151533-33xxlotw/logs/debug-internal.log</code>"
      ],
      "text/plain": [
       "<IPython.core.display.HTML object>"
      ]
     },
     "metadata": {},
     "output_type": "display_data"
    },
    {
     "data": {
      "text/html": [
       "<h3>Run summary:</h3><br/><style>\n",
       "    table.wandb td:nth-child(1) { padding: 0 10px; text-align: right }\n",
       "    </style><table class=\"wandb\">\n",
       "<tr><td>epoch</td><td>9</td></tr><tr><td>train_loss</td><td>40.22736</td></tr><tr><td>train_roc</td><td>0.58412</td></tr><tr><td>_runtime</td><td>3466</td></tr><tr><td>_timestamp</td><td>1627488799</td></tr><tr><td>_step</td><td>19</td></tr><tr><td>test_loss</td><td>10.32867</td></tr><tr><td>test_roc</td><td>0.54955</td></tr></table>"
      ],
      "text/plain": [
       "<IPython.core.display.HTML object>"
      ]
     },
     "metadata": {},
     "output_type": "display_data"
    },
    {
     "data": {
      "text/html": [
       "<h3>Run history:</h3><br/><style>\n",
       "    table.wandb td:nth-child(1) { padding: 0 10px; text-align: right }\n",
       "    </style><table class=\"wandb\">\n",
       "<tr><td>epoch</td><td>▁▁▂▂▃▃▃▃▄▄▅▅▆▆▆▆▇▇██</td></tr><tr><td>train_loss</td><td>██▇▇▆▆▃▂▂▁</td></tr><tr><td>train_roc</td><td>▁▂▃▄▇▆▇▇▇█</td></tr><tr><td>_runtime</td><td>▁▁▂▂▃▃▃▃▄▄▅▅▆▆▆▆▇▇██</td></tr><tr><td>_timestamp</td><td>▁▁▂▂▃▃▃▃▄▄▅▅▆▆▆▆▇▇██</td></tr><tr><td>_step</td><td>▁▁▂▂▂▃▃▄▄▄▅▅▅▆▆▇▇▇██</td></tr><tr><td>test_loss</td><td>▄▄▄▄▄▂▁█▇▁</td></tr><tr><td>test_roc</td><td>▆██▅▆▃▃▁▂▁</td></tr></table><br/>"
      ],
      "text/plain": [
       "<IPython.core.display.HTML object>"
      ]
     },
     "metadata": {},
     "output_type": "display_data"
    },
    {
     "data": {
      "text/html": [
       "Synced 5 W&B file(s), 0 media file(s), 0 artifact file(s) and 0 other file(s)"
      ],
      "text/plain": [
       "<IPython.core.display.HTML object>"
      ]
     },
     "metadata": {},
     "output_type": "display_data"
    },
    {
     "data": {
      "text/html": [
       "\n",
       "                    <br/>Synced <strong style=\"color:#cdcd00\">splendid-moon-41</strong>: <a href=\"https://wandb.ai/gusto/rsna-miccai/runs/33xxlotw\" target=\"_blank\">https://wandb.ai/gusto/rsna-miccai/runs/33xxlotw</a><br/>\n",
       "                "
      ],
      "text/plain": [
       "<IPython.core.display.HTML object>"
      ]
     },
     "metadata": {},
     "output_type": "display_data"
    }
   ],
   "source": [
    "run.finish()"
   ]
  },
  {
   "cell_type": "markdown",
   "id": "9af4f297-3162-44e2-a3dc-9de25b3b560b",
   "metadata": {},
   "source": [
    "Done"
   ]
  }
 ],
 "metadata": {
  "kernelspec": {
   "display_name": "Python [pipenv: Kaggle]",
   "language": "python",
   "name": "kaggle_env"
  },
  "language_info": {
   "codemirror_mode": {
    "name": "ipython",
    "version": 3
   },
   "file_extension": ".py",
   "mimetype": "text/x-python",
   "name": "python",
   "nbconvert_exporter": "python",
   "pygments_lexer": "ipython3",
   "version": "3.6.8"
  }
 },
 "nbformat": 4,
 "nbformat_minor": 5
}
